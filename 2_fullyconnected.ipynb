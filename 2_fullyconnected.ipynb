{
 "cells": [
  {
   "cell_type": "markdown",
   "metadata": {
    "colab_type": "text",
    "id": "kR-4eNdK6lYS"
   },
   "source": [
    "Deep Learning\n",
    "=============\n",
    "\n",
    "Assignment 2\n",
    "------------\n",
    "\n",
    "Previously in `1_notmnist.ipynb`, we created a pickle with formatted datasets for training, development and testing on the [notMNIST dataset](http://yaroslavvb.blogspot.com/2011/09/notmnist-dataset.html).\n",
    "\n",
    "The goal of this assignment is to progressively train deeper and more accurate models using TensorFlow."
   ]
  },
  {
   "cell_type": "code",
   "execution_count": 1,
   "metadata": {
    "cellView": "both",
    "colab": {
     "autoexec": {
      "startup": false,
      "wait_interval": 0
     }
    },
    "colab_type": "code",
    "collapsed": true,
    "id": "JLpLa8Jt7Vu4"
   },
   "outputs": [],
   "source": [
    "# These are all the modules we'll be using later. Make sure you can import them\n",
    "# before proceeding further.\n",
    "from __future__ import print_function\n",
    "import numpy as np\n",
    "import tensorflow as tf\n",
    "from six.moves import cPickle as pickle\n",
    "from six.moves import range"
   ]
  },
  {
   "cell_type": "markdown",
   "metadata": {
    "colab_type": "text",
    "id": "1HrCK6e17WzV"
   },
   "source": [
    "First reload the data we generated in `1_notmnist.ipynb`."
   ]
  },
  {
   "cell_type": "code",
   "execution_count": 2,
   "metadata": {
    "cellView": "both",
    "colab": {
     "autoexec": {
      "startup": false,
      "wait_interval": 0
     },
     "output_extras": [
      {
       "item_id": 1
      }
     ]
    },
    "colab_type": "code",
    "executionInfo": {
     "elapsed": 19456,
     "status": "ok",
     "timestamp": 1449847956073,
     "user": {
      "color": "",
      "displayName": "",
      "isAnonymous": false,
      "isMe": true,
      "permissionId": "",
      "photoUrl": "",
      "sessionId": "0",
      "userId": ""
     },
     "user_tz": 480
    },
    "id": "y3-cj1bpmuxc",
    "outputId": "0ddb1607-1fc4-4ddb-de28-6c7ab7fb0c33"
   },
   "outputs": [
    {
     "name": "stdout",
     "output_type": "stream",
     "text": [
      "Training set (32000, 28, 28) (32000,)\n",
      "Validation set (10000, 28, 28) (10000,)\n",
      "Test set (10000, 28, 28) (10000,)\n"
     ]
    }
   ],
   "source": [
    "pickle_file = 'notMNIST.pickle'\n",
    "\n",
    "with open(pickle_file, 'rb') as f:\n",
    "  save = pickle.load(f)\n",
    "  train_dataset = save['train_dataset']\n",
    "  train_labels = save['train_labels']\n",
    "  valid_dataset = save['valid_dataset']\n",
    "  valid_labels = save['valid_labels']\n",
    "  test_dataset = save['test_dataset']\n",
    "  test_labels = save['test_labels']\n",
    "  del save  # hint to help gc free up memory\n",
    "  print('Training set', train_dataset.shape, train_labels.shape)\n",
    "  print('Validation set', valid_dataset.shape, valid_labels.shape)\n",
    "  print('Test set', test_dataset.shape, test_labels.shape)"
   ]
  },
  {
   "cell_type": "markdown",
   "metadata": {
    "colab_type": "text",
    "id": "L7aHrm6nGDMB"
   },
   "source": [
    "Reformat into a shape that's more adapted to the models we're going to train:\n",
    "- data as a flat matrix,\n",
    "- labels as float 1-hot encodings."
   ]
  },
  {
   "cell_type": "code",
   "execution_count": 3,
   "metadata": {
    "cellView": "both",
    "colab": {
     "autoexec": {
      "startup": false,
      "wait_interval": 0
     },
     "output_extras": [
      {
       "item_id": 1
      }
     ]
    },
    "colab_type": "code",
    "executionInfo": {
     "elapsed": 19723,
     "status": "ok",
     "timestamp": 1449847956364,
     "user": {
      "color": "",
      "displayName": "",
      "isAnonymous": false,
      "isMe": true,
      "permissionId": "",
      "photoUrl": "",
      "sessionId": "0",
      "userId": ""
     },
     "user_tz": 480
    },
    "id": "IRSyYiIIGIzS",
    "outputId": "2ba0fc75-1487-4ace-a562-cf81cae82793"
   },
   "outputs": [
    {
     "name": "stdout",
     "output_type": "stream",
     "text": [
      "Training set (32000, 784) (32000, 10)\n",
      "Validation set (10000, 784) (10000, 10)\n",
      "Test set (10000, 784) (10000, 10)\n"
     ]
    }
   ],
   "source": [
    "image_size = 28\n",
    "num_labels = 10\n",
    "\n",
    "def reformat(dataset, labels):\n",
    "  dataset = dataset.reshape((-1, image_size * image_size)).astype(np.float32)\n",
    "  # Map 0 to [1.0, 0.0, 0.0 ...], 1 to [0.0, 1.0, 0.0 ...]\n",
    "  labels = (np.arange(num_labels) == labels[:,None]).astype(np.float32)\n",
    "  return dataset, labels\n",
    "train_dataset, train_labels = reformat(train_dataset, train_labels)\n",
    "valid_dataset, valid_labels = reformat(valid_dataset, valid_labels)\n",
    "test_dataset, test_labels = reformat(test_dataset, test_labels)\n",
    "print('Training set', train_dataset.shape, train_labels.shape)\n",
    "print('Validation set', valid_dataset.shape, valid_labels.shape)\n",
    "print('Test set', test_dataset.shape, test_labels.shape)"
   ]
  },
  {
   "cell_type": "markdown",
   "metadata": {
    "colab_type": "text",
    "id": "nCLVqyQ5vPPH"
   },
   "source": [
    "We're first going to train a multinomial logistic regression using simple gradient descent.\n",
    "\n",
    "TensorFlow works like this:\n",
    "* First you describe the computation that you want to see performed: what the inputs, the variables, and the operations look like. These get created as nodes over a computation graph. This description is all contained within the block below:\n",
    "\n",
    "      with graph.as_default():\n",
    "          ...\n",
    "\n",
    "* Then you can run the operations on this graph as many times as you want by calling `session.run()`, providing it outputs to fetch from the graph that get returned. This runtime operation is all contained in the block below:\n",
    "\n",
    "      with tf.Session(graph=graph) as session:\n",
    "          ...\n",
    "\n",
    "Let's load all the data into TensorFlow and build the computation graph corresponding to our training:"
   ]
  },
  {
   "cell_type": "code",
   "execution_count": 4,
   "metadata": {
    "collapsed": true
   },
   "outputs": [],
   "source": [
    "# REF: https://www.tensorflow.org/get_started/summaries_and_tensorboard\n",
    "def variable_summaries(var):\n",
    "  \"\"\"Attach a lot of summaries to a Tensor (for TensorBoard visualization).\"\"\"\n",
    "  with tf.name_scope('summaries'):\n",
    "    mean = tf.reduce_mean(var)\n",
    "    tf.summary.scalar('mean', mean)\n",
    "    with tf.name_scope('stddev'):\n",
    "      stddev = tf.sqrt(tf.reduce_mean(tf.square(var - mean)))\n",
    "    tf.summary.scalar('stddev', stddev)\n",
    "    tf.summary.scalar('max', tf.reduce_max(var))\n",
    "    tf.summary.scalar('min', tf.reduce_min(var))\n",
    "    tf.summary.histogram('histogram', var)"
   ]
  },
  {
   "cell_type": "code",
   "execution_count": 21,
   "metadata": {
    "cellView": "both",
    "colab": {
     "autoexec": {
      "startup": false,
      "wait_interval": 0
     }
    },
    "colab_type": "code",
    "collapsed": true,
    "id": "Nfv39qvtvOl_"
   },
   "outputs": [],
   "source": [
    "# With gradient descent training, even this much data is prohibitive.\n",
    "# Subset the training data for faster turnaround.\n",
    "train_subset = np.random.choice(np.arange(len(train_dataset)),10000)\n",
    "learning_rate = .5\n",
    "\n",
    "graph1 = tf.Graph()\n",
    "with graph1.as_default():\n",
    "  tf.summary.scalar('image_size', image_size)\n",
    "  tf.summary.scalar('num_labels', num_labels)\n",
    "  tf.summary.scalar('learning_rate', learning_rate)\n",
    "\n",
    "  # Input data.\n",
    "  # Load the training, validation and test data into constants that are\n",
    "  # attached to the graph.\n",
    "  with tf.name_scope('data'):\n",
    "    with tf.name_scope('train'):\n",
    "      tf_train_dataset = tf.constant(train_dataset[train_subset, :])\n",
    "      tf_train_labels = tf.constant(train_labels[train_subset])\n",
    "    with tf.name_scope('valid'):\n",
    "      tf_valid_dataset = tf.constant(valid_dataset)\n",
    "    with tf.name_scope('test'):\n",
    "      tf_test_dataset = tf.constant(test_dataset)\n",
    "  \n",
    "  with tf.name_scope('ff1'):\n",
    "    # Variables.\n",
    "    # These are the parameters that we are going to be training. The weight\n",
    "    # matrix will be initialized using random values following a (truncated)\n",
    "    # normal distribution. The biases get initialized to zero.\n",
    "    with tf.name_scope('weights'):\n",
    "        weights = tf.Variable(\n",
    "            tf.truncated_normal([image_size * image_size, num_labels]))\n",
    "        variable_summaries(weights)\n",
    "    with tf.name_scope('biases'):\n",
    "        biases = tf.Variable(tf.zeros([num_labels]))\n",
    "        variable_summaries(biases)\n",
    "        \n",
    "    # Training computation.\n",
    "    # We multiply the inputs with the weight matrix, and add biases. We compute\n",
    "    # the softmax and cross-entropy (it's one operation in TensorFlow, because\n",
    "    # it's very common, and it can be optimized). We take the average of this\n",
    "    # cross-entropy across all training examples: that's our loss.\n",
    "    logits = tf.matmul(tf_train_dataset, weights) + biases\n",
    "    variable_summaries(logits)\n",
    "  \n",
    "  with tf.name_scope('error'):\n",
    "    diff = tf.nn.softmax_cross_entropy_with_logits(logits=logits, labels=tf_train_labels)\n",
    "    loss = tf.reduce_mean(diff)\n",
    "    tf.summary.scalar('cross_entropy', loss)\n",
    "    \n",
    "  # Optimizer.\n",
    "  # We are going to find the minimum of this loss using gradient descent.\n",
    "  with tf.name_scope('opt'):\n",
    "    optimizer = tf.train.GradientDescentOptimizer(learning_rate).minimize(loss)\n",
    "  \n",
    "  # Predictions for the training, validation, and test data.\n",
    "  # These are not part of training, but merely here so that we can report\n",
    "  # accuracy figures as we train.\n",
    "  with tf.name_scope('out'):\n",
    "    train_prediction = tf.nn.softmax(logits)\n",
    "    valid_prediction = tf.nn.softmax(tf.matmul(tf_valid_dataset, weights) + biases)\n",
    "    test_prediction = tf.nn.softmax(tf.matmul(tf_test_dataset, weights) + biases)"
   ]
  },
  {
   "cell_type": "markdown",
   "metadata": {
    "colab_type": "text",
    "id": "KQcL4uqISHjP"
   },
   "source": [
    "Let's run this computation and iterate:"
   ]
  },
  {
   "cell_type": "code",
   "execution_count": 22,
   "metadata": {
    "collapsed": true
   },
   "outputs": [],
   "source": [
    "def accuracy(predictions, labels):\n",
    "  return (100.0 * np.sum(np.argmax(predictions, 1) == np.argmax(labels, 1))\n",
    "          / predictions.shape[0])"
   ]
  },
  {
   "cell_type": "code",
   "execution_count": 23,
   "metadata": {
    "cellView": "both",
    "colab": {
     "autoexec": {
      "startup": false,
      "wait_interval": 0
     },
     "output_extras": [
      {
       "item_id": 9
      }
     ]
    },
    "colab_type": "code",
    "executionInfo": {
     "elapsed": 57454,
     "status": "ok",
     "timestamp": 1449847994134,
     "user": {
      "color": "",
      "displayName": "",
      "isAnonymous": false,
      "isMe": true,
      "permissionId": "",
      "photoUrl": "",
      "sessionId": "0",
      "userId": ""
     },
     "user_tz": 480
    },
    "id": "z2cjdenH869W",
    "outputId": "4c037ba1-b526-4d8e-e632-91e2a0333267"
   },
   "outputs": [],
   "source": [
    "def run_graph(graph, num_steps = 1001, summary_path = './summary/'):\n",
    "    with tf.Session(graph=graph) as session:\n",
    "        # This is a one-time operation which ensures the parameters get initialized as\n",
    "        # we described in the graph: random weights for the matrix, zeros for the\n",
    "        # biases.\n",
    "\n",
    "        # Merge all the summaries and write them out to /tmp/mnist_logs (by default)\n",
    "        merged_summary = tf.summary.merge_all()\n",
    "        train_writer = tf.summary.FileWriter(summary_path+'train', graph=graph)\n",
    "        test_writer = tf.summary.FileWriter(summary_path+'test')\n",
    "        tf.global_variables_initializer().run()\n",
    "        print('Initialized')\n",
    "\n",
    "        def test_step(step):\n",
    "            summary, test = session.run([merged_summary, test_prediction])\n",
    "            test_writer.add_summary(summary, step)\n",
    "            test = accuracy(test, test_labels)\n",
    "            print(\"Step {}: Test: {}%\".format(step, test))\n",
    "            return test\n",
    "\n",
    "        def train_step(step, verify=False):\n",
    "            if verify:\n",
    "                summary, _, train, valid = session.run([merged_summary, optimizer, train_prediction, valid_prediction])\n",
    "                train_writer.add_summary(summary, step)\n",
    "                train = accuracy(train, train_labels[train_subset])\n",
    "                valid = accuracy(valid, valid_labels)\n",
    "                print(\"Step {}: Train: {}% Valid: {}%\".format(step, train, valid))\n",
    "                return train, valid\n",
    "            else:\n",
    "                summary, _ = session.run([merged_summary, optimizer])\n",
    "                train_writer.add_summary(summary, step)\n",
    "\n",
    "        # Early Stopping\n",
    "        saver = tf.train.Saver([weights, biases])\n",
    "        stopping_threshold = 3\n",
    "\n",
    "        # Main Loop\n",
    "        for step in range(num_steps):\n",
    "            # Run the computations. We tell .run() that we want to run the optimizer,\n",
    "            # and get the loss value and the training predictions returned as numpy\n",
    "            # arrays.\n",
    "            # Every 1000 steps, test the test accuracy without training\n",
    "            if (step == num_steps):\n",
    "                test_step(step)\n",
    "\n",
    "            # Every 100 steps, test training and validation accuracy\n",
    "            elif (step % 100 == 0):\n",
    "                saver.save(session, summary_path+\"train/single_layer{}.chk\".format(step))\n",
    "                train, valid = train_step(step, verify=True)\n",
    "\n",
    "                # Early Stopping\n",
    "                if abs(train-valid)>stopping_threshold:\n",
    "                    print(\"Stopping Early!\")\n",
    "                    test_step(step)\n",
    "                    break\n",
    "\n",
    "            # Normal, fast, training step\n",
    "            else:\n",
    "                train_step(step)"
   ]
  },
  {
   "cell_type": "code",
   "execution_count": 24,
   "metadata": {},
   "outputs": [
    {
     "name": "stdout",
     "output_type": "stream",
     "text": [
      "Initialized\n",
      "Step 0: Train: 8.76% Valid: 8.32%\n",
      "Step 100: Train: 71.16% Valid: 69.83%\n",
      "Step 200: Train: 74.25% Valid: 72.2%\n",
      "Step 300: Train: 75.87% Valid: 73.11%\n",
      "Step 400: Train: 76.91% Valid: 73.48%\n",
      "Stopping Early!\n",
      "Step 400: Test: 80.63%\n"
     ]
    }
   ],
   "source": [
    "run_graph(graph1, summary_path=\"./summary/fullyconnected/singleconnected/\")"
   ]
  },
  {
   "cell_type": "markdown",
   "metadata": {
    "colab_type": "text",
    "id": "x68f-hxRGm3H"
   },
   "source": [
    "Let's now switch to stochastic gradient descent training instead, which is much faster.\n",
    "\n",
    "The graph will be similar, except that instead of holding all the training data into a constant node, we create a `Placeholder` node which will be fed actual data at every call of `session.run()`."
   ]
  },
  {
   "cell_type": "code",
   "execution_count": 55,
   "metadata": {
    "cellView": "both",
    "colab": {
     "autoexec": {
      "startup": false,
      "wait_interval": 0
     }
    },
    "colab_type": "code",
    "collapsed": true,
    "id": "qhPMzWYRGrzM"
   },
   "outputs": [],
   "source": [
    "batch_size = 128\n",
    "\n",
    "graph2 = tf.Graph()\n",
    "with graph2.as_default():\n",
    "  tf.summary.scalar('image_size', image_size)\n",
    "  tf.summary.scalar('batch_size', batch_size)\n",
    "  tf.summary.scalar('num_labels', num_labels)\n",
    "  tf.summary.scalar('learning_rate', learning_rate)\n",
    "\n",
    "  # Input data. For the training data, we use a placeholder that will be fed\n",
    "  # at run time with a training minibatch.\n",
    "  with tf.name_scope('data'):\n",
    "    with tf.name_scope('train'):\n",
    "      tf_train_dataset = tf.placeholder(tf.float32,\n",
    "                                        shape=(batch_size, image_size * image_size))\n",
    "      tf_train_labels = tf.placeholder(tf.float32, shape=(batch_size, num_labels))\n",
    "    with tf.name_scope('valid'):\n",
    "      tf_valid_dataset = tf.constant(valid_dataset)\n",
    "    with tf.name_scope('test'):\n",
    "      tf_test_dataset = tf.constant(test_dataset)\n",
    "  \n",
    "  with tf.name_scope('ff1'):\n",
    "    # Variables.\n",
    "    # These are the parameters that we are going to be training. The weight\n",
    "    # matrix will be initialized using random values following a (truncated)\n",
    "    # normal distribution. The biases get initialized to zero.\n",
    "    with tf.name_scope('weights'):\n",
    "        weights = tf.Variable(\n",
    "            tf.truncated_normal([image_size * image_size, num_labels]))\n",
    "        variable_summaries(weights)\n",
    "    with tf.name_scope('biases'):\n",
    "        biases = tf.Variable(tf.zeros([num_labels]))\n",
    "        variable_summaries(biases)\n",
    "        \n",
    "    # Training computation.\n",
    "    # We multiply the inputs with the weight matrix, and add biases. We compute\n",
    "    # the softmax and cross-entropy (it's one operation in TensorFlow, because\n",
    "    # it's very common, and it can be optimized). We take the average of this\n",
    "    # cross-entropy across all training examples: that's our loss.\n",
    "    logits = tf.matmul(tf_train_dataset, weights) + biases\n",
    "    variable_summaries(logits)\n",
    "  \n",
    "  with tf.name_scope('error'):\n",
    "    diff = tf.nn.softmax_cross_entropy_with_logits(logits=logits, labels=tf_train_labels)\n",
    "    loss = tf.reduce_mean(diff)\n",
    "    tf.summary.scalar('cross_entropy', loss)\n",
    "    \n",
    "  # Optimizer.\n",
    "  # We are going to find the minimum of this loss using gradient descent.\n",
    "  with tf.name_scope('opt'):\n",
    "    optimizer = tf.train.GradientDescentOptimizer(learning_rate).minimize(loss)\n",
    "  \n",
    "  # Predictions for the training, validation, and test data.\n",
    "  # These are not part of training, but merely here so that we can report\n",
    "  # accuracy figures as we train.\n",
    "  with tf.name_scope('out'):\n",
    "    train_prediction = tf.nn.softmax(logits)\n",
    "    valid_prediction = tf.nn.softmax(tf.matmul(tf_valid_dataset, weights) + biases)\n",
    "    test_prediction = tf.nn.softmax(tf.matmul(tf_test_dataset, weights) + biases)"
   ]
  },
  {
   "cell_type": "markdown",
   "metadata": {
    "colab_type": "text",
    "id": "XmVZESmtG4JH"
   },
   "source": [
    "Let's run it:"
   ]
  },
  {
   "cell_type": "code",
   "execution_count": 56,
   "metadata": {
    "cellView": "both",
    "colab": {
     "autoexec": {
      "startup": false,
      "wait_interval": 0
     },
     "output_extras": [
      {
       "item_id": 6
      }
     ]
    },
    "colab_type": "code",
    "executionInfo": {
     "elapsed": 66292,
     "status": "ok",
     "timestamp": 1449848003013,
     "user": {
      "color": "",
      "displayName": "",
      "isAnonymous": false,
      "isMe": true,
      "permissionId": "",
      "photoUrl": "",
      "sessionId": "0",
      "userId": ""
     },
     "user_tz": 480
    },
    "id": "FoF91pknG_YW",
    "outputId": "d255c80e-954d-4183-ca1c-c7333ce91d0a"
   },
   "outputs": [],
   "source": [
    "def run_batch_graph(graph, num_steps = 1001, summary_path = './summary/', save_layers=[weights, biases]):\n",
    "    with tf.Session(graph=graph) as session:\n",
    "        # Merge all the summaries and write them out to /tmp/mnist_logs (by default)\n",
    "        merged_summary = tf.summary.merge_all()\n",
    "        train_writer = tf.summary.FileWriter(summary_path+'train', graph=graph)\n",
    "        test_writer = tf.summary.FileWriter(summary_path+'test')\n",
    "        tf.global_variables_initializer().run()\n",
    "        print('Initialized')\n",
    "\n",
    "        def get_feed_dict(step):\n",
    "            # Pick an offset within the training data, which has been randomized.\n",
    "            # Note: we could use better randomization across epochs.\n",
    "            offset = (step * batch_size) % (train_labels.shape[0] - batch_size)\n",
    "            # Generate a minibatch.\n",
    "            batch_data = train_dataset[offset:(offset + batch_size), :]\n",
    "            batch_labels = train_labels[offset:(offset + batch_size), :]\n",
    "            # Prepare a dictionary telling the session where to feed the minibatch.\n",
    "            # The key of the dictionary is the placeholder node of the graph to be fed,\n",
    "            # and the value is the numpy array to feed to it.\n",
    "            feed_dict = {tf_train_dataset : batch_data, tf_train_labels : batch_labels}\n",
    "            return feed_dict, (batch_data, batch_labels)\n",
    "\n",
    "        def test_step(step):\n",
    "            feed_dict, (batch_data, batch_labels) = get_feed_dict(step)\n",
    "            summary, test = session.run([merged_summary, test_prediction], feed_dict=feed_dict)\n",
    "            test_writer.add_summary(summary, step)\n",
    "            test = accuracy(test, test_labels)\n",
    "            print(\"Step {}: Test: {}%\".format(step, test))\n",
    "            return test\n",
    "\n",
    "        def train_step(step, verify=False):\n",
    "            feed_dict, (batch_data, batch_labels) = get_feed_dict(step)\n",
    "            if verify:\n",
    "                summary, _, train, valid = session.run([merged_summary, optimizer, train_prediction, valid_prediction], feed_dict=feed_dict)\n",
    "                train_writer.add_summary(summary, step)\n",
    "                train = accuracy(train, batch_labels)\n",
    "                valid = accuracy(valid, valid_labels)\n",
    "                print(\"Step {}: Train: {}% Valid: {}%\".format(step, train, valid))\n",
    "                return train, valid\n",
    "            else:\n",
    "                summary, _ = session.run([merged_summary, optimizer], feed_dict=feed_dict)\n",
    "                train_writer.add_summary(summary, step)\n",
    "\n",
    "        # Early Stopping\n",
    "        saver = tf.train.Saver(save_layers)\n",
    "        earliest_stop = 300\n",
    "        stopping_threshold = 3\n",
    "\n",
    "        # Main Loop\n",
    "        for step in range(num_steps):\n",
    "            # Run the computations. We tell .run() that we want to run the optimizer,\n",
    "            # and get the loss value and the training predictions returned as numpy\n",
    "            # arrays.\n",
    "            # Every 1000 steps, test the test accuracy without training\n",
    "            if (step == num_steps):\n",
    "                test_step(step)\n",
    "\n",
    "            # Every 100 steps, test training and validation accuracy\n",
    "            elif (step % 100 == 0):\n",
    "                saver.save(session, summary_path+\"train/single_layer{}.chk\".format(step))\n",
    "                train, valid = train_step(step, verify=True)\n",
    "\n",
    "                # Early Stopping\n",
    "                if abs(train-valid)>stopping_threshold and step>earliest_stop:\n",
    "                    print(\"Stopping Early!\")\n",
    "                    test_step(step)\n",
    "                    break\n",
    "\n",
    "            # Normal, fast, training step\n",
    "            else:\n",
    "                train_step(step)"
   ]
  },
  {
   "cell_type": "code",
   "execution_count": 57,
   "metadata": {},
   "outputs": [
    {
     "name": "stdout",
     "output_type": "stream",
     "text": [
      "Initialized\n",
      "Step 0: Train: 15.625% Valid: 14.43%\n",
      "Step 100: Train: 73.4375% Valid: 68.18%\n",
      "Step 200: Train: 74.21875% Valid: 72.61%\n",
      "Step 300: Train: 71.09375% Valid: 73.57%\n",
      "Step 400: Train: 75.0% Valid: 74.4%\n",
      "Step 500: Train: 71.09375% Valid: 74.92%\n",
      "Stopping Early!\n",
      "Step 500: Test: 82.56%\n"
     ]
    }
   ],
   "source": [
    "run_batch_graph(graph2, summary_path=\"./summary/fullyconnected/batches/\")"
   ]
  },
  {
   "cell_type": "markdown",
   "metadata": {
    "colab_type": "text",
    "id": "7omWxtvLLxik"
   },
   "source": [
    "---\n",
    "Problem\n",
    "-------\n",
    "\n",
    "Turn the logistic regression example with SGD into a 1-hidden layer neural network with rectified linear units [nn.relu()](https://www.tensorflow.org/versions/r0.7/api_docs/python/nn.html#relu) and 1024 hidden nodes. This model should improve your validation / test accuracy.\n",
    "\n",
    "---"
   ]
  },
  {
   "cell_type": "code",
   "execution_count": 67,
   "metadata": {},
   "outputs": [],
   "source": [
    "batch_size = 128\n",
    "hidden_size = 1024\n",
    "\n",
    "graph3 = tf.Graph()\n",
    "with graph3.as_default():\n",
    "  tf.summary.scalar('image_size', image_size)\n",
    "  tf.summary.scalar('batch_size', batch_size)\n",
    "  tf.summary.scalar('num_labels', num_labels)\n",
    "  tf.summary.scalar('num_labels', hidden_size)\n",
    "  tf.summary.scalar('learning_rate', learning_rate)\n",
    "\n",
    "  # Input data. For the training data, we use a placeholder that will be fed\n",
    "  # at run time with a training minibatch.\n",
    "  with tf.name_scope('data'):\n",
    "    with tf.name_scope('train'):\n",
    "      tf_train_dataset = tf.placeholder(tf.float32,\n",
    "                                        shape=(batch_size, image_size * image_size))\n",
    "      tf_train_labels = tf.placeholder(tf.float32, shape=(batch_size, num_labels))\n",
    "    with tf.name_scope('valid'):\n",
    "      tf_valid_dataset = tf.constant(valid_dataset)\n",
    "    with tf.name_scope('test'):\n",
    "      tf_test_dataset = tf.constant(test_dataset)\n",
    "  \n",
    "  # Feed Forward Layer 1\n",
    "  with tf.name_scope('ff1'):\n",
    "    with tf.name_scope('weights'):\n",
    "        weights1 = tf.Variable(\n",
    "            tf.truncated_normal([image_size * image_size, hidden_size]))\n",
    "        variable_summaries(weights1)\n",
    "    with tf.name_scope('biases'):\n",
    "        biases1 = tf.Variable(tf.zeros([hidden_size]))\n",
    "        variable_summaries(biases1)\n",
    "    with tf.name_scope('linear'):\n",
    "        logits1 = tf.matmul(tf_train_dataset, weights1) + biases1\n",
    "        variable_summaries(logits1)\n",
    "    with tf.name_scope('activation'):\n",
    "        act1 = tf.nn.relu(logits1)\n",
    "        variable_summaries(act1)\n",
    "    \n",
    "  # Feed Forward Layer 1\n",
    "  with tf.name_scope('ff2'):\n",
    "    with tf.name_scope('weights'):\n",
    "        weights2 = tf.Variable(\n",
    "            tf.truncated_normal([hidden_size, num_labels]))\n",
    "        variable_summaries(weights2)\n",
    "    with tf.name_scope('biases'):\n",
    "        biases2 = tf.Variable(tf.zeros([num_labels]))\n",
    "        variable_summaries(biases2)\n",
    "    with tf.name_scope('linear'):\n",
    "        logits2 = tf.matmul(act1, weights2) + biases2\n",
    "        variable_summaries(logits2)\n",
    "  \n",
    "  with tf.name_scope('error'):\n",
    "    diff = tf.nn.softmax_cross_entropy_with_logits(logits=logits2, labels=tf_train_labels)\n",
    "    loss = tf.reduce_mean(diff)\n",
    "    tf.summary.scalar('cross_entropy', loss)\n",
    "    \n",
    "  # Optimizer.\n",
    "  # We are going to find the minimum of this loss using gradient descent.\n",
    "  with tf.name_scope('opt'):\n",
    "    optimizer = tf.train.GradientDescentOptimizer(learning_rate).minimize(loss)\n",
    "  \n",
    "  # Predictions for the training, validation, and test data.\n",
    "  # These are not part of training, but merely here so that we can report\n",
    "  # accuracy figures as we train.\n",
    "  with tf.name_scope('out'):\n",
    "    train_prediction = tf.nn.softmax(logits2)\n",
    "    valid_prediction = tf.nn.softmax(tf.matmul(tf.nn.relu(tf.matmul(tf_valid_dataset, weights1) + biases1), weights2) + biases2)\n",
    "    test_prediction = tf.nn.softmax(tf.matmul(tf.nn.relu(tf.matmul(tf_test_dataset, weights1) + biases1), weights2) + biases2)"
   ]
  },
  {
   "cell_type": "code",
   "execution_count": 68,
   "metadata": {},
   "outputs": [
    {
     "name": "stdout",
     "output_type": "stream",
     "text": [
      "Initialized\n",
      "Step 0: Train: 10.15625% Valid: 19.8%\n",
      "Step 100: Train: 82.8125% Valid: 76.63%\n",
      "Step 200: Train: 80.46875% Valid: 80.29%\n",
      "Step 300: Train: 80.46875% Valid: 79.64%\n",
      "Step 400: Train: 83.59375% Valid: 80.51%\n",
      "Stopping Early!\n",
      "Step 400: Test: 87.93%\n"
     ]
    }
   ],
   "source": [
    "run_batch_graph(graph3, summary_path=\"./summary/fullyconnected/hidden/\", save_layers=[weights1, biases1, weights2, biases2])"
   ]
  },
  {
   "cell_type": "code",
   "execution_count": null,
   "metadata": {
    "collapsed": true
   },
   "outputs": [],
   "source": []
  }
 ],
 "metadata": {
  "colab": {
   "default_view": {},
   "name": "2_fullyconnected.ipynb",
   "provenance": [],
   "version": "0.3.2",
   "views": {}
  },
  "kernelspec": {
   "display_name": "Python 3",
   "language": "python",
   "name": "python3"
  },
  "language_info": {
   "codemirror_mode": {
    "name": "ipython",
    "version": 3
   },
   "file_extension": ".py",
   "mimetype": "text/x-python",
   "name": "python",
   "nbconvert_exporter": "python",
   "pygments_lexer": "ipython3",
   "version": "3.4.3"
  }
 },
 "nbformat": 4,
 "nbformat_minor": 1
}
