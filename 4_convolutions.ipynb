{
 "cells": [
  {
   "cell_type": "markdown",
   "metadata": {
    "colab_type": "text",
    "id": "4embtkV0pNxM"
   },
   "source": [
    "Deep Learning\n",
    "=============\n",
    "\n",
    "Assignment 4\n",
    "------------\n",
    "\n",
    "Previously in `2_fullyconnected.ipynb` and `3_regularization.ipynb`, we trained fully connected networks to classify [notMNIST](http://yaroslavvb.blogspot.com/2011/09/notmnist-dataset.html) characters.\n",
    "\n",
    "The goal of this assignment is make the neural network convolutional."
   ]
  },
  {
   "cell_type": "code",
   "execution_count": 1,
   "metadata": {
    "cellView": "both",
    "colab": {
     "autoexec": {
      "startup": false,
      "wait_interval": 0
     }
    },
    "colab_type": "code",
    "collapsed": true,
    "id": "tm2CQN_Cpwj0"
   },
   "outputs": [],
   "source": [
    "# These are all the modules we'll be using later. Make sure you can import them\n",
    "# before proceeding further.\n",
    "from __future__ import print_function\n",
    "import numpy as np\n",
    "import tensorflow as tf\n",
    "from six.moves import cPickle as pickle\n",
    "from six.moves import range"
   ]
  },
  {
   "cell_type": "code",
   "execution_count": 2,
   "metadata": {
    "cellView": "both",
    "colab": {
     "autoexec": {
      "startup": false,
      "wait_interval": 0
     },
     "output_extras": [
      {
       "item_id": 1
      }
     ]
    },
    "colab_type": "code",
    "executionInfo": {
     "elapsed": 11948,
     "status": "ok",
     "timestamp": 1446658914837,
     "user": {
      "color": "",
      "displayName": "",
      "isAnonymous": false,
      "isMe": true,
      "permissionId": "",
      "photoUrl": "",
      "sessionId": "0",
      "userId": ""
     },
     "user_tz": 480
    },
    "id": "y3-cj1bpmuxc",
    "outputId": "016b1a51-0290-4b08-efdb-8c95ffc3cd01"
   },
   "outputs": [
    {
     "name": "stdout",
     "output_type": "stream",
     "text": [
      "Training set (32000, 28, 28) (32000,)\n",
      "Validation set (10000, 28, 28) (10000,)\n",
      "Test set (10000, 28, 28) (10000,)\n"
     ]
    }
   ],
   "source": [
    "pickle_file = 'notMNIST.pickle'\n",
    "\n",
    "with open(pickle_file, 'rb') as f:\n",
    "  save = pickle.load(f)\n",
    "  train_dataset = save['train_dataset']\n",
    "  train_labels = save['train_labels']\n",
    "  valid_dataset = save['valid_dataset']\n",
    "  valid_labels = save['valid_labels']\n",
    "  test_dataset = save['test_dataset']\n",
    "  test_labels = save['test_labels']\n",
    "  del save  # hint to help gc free up memory\n",
    "  print('Training set', train_dataset.shape, train_labels.shape)\n",
    "  print('Validation set', valid_dataset.shape, valid_labels.shape)\n",
    "  print('Test set', test_dataset.shape, test_labels.shape)"
   ]
  },
  {
   "cell_type": "markdown",
   "metadata": {
    "colab_type": "text",
    "id": "L7aHrm6nGDMB"
   },
   "source": [
    "Reformat into a TensorFlow-friendly shape:\n",
    "- convolutions need the image data formatted as a cube (width by height by #channels)\n",
    "- labels as float 1-hot encodings."
   ]
  },
  {
   "cell_type": "code",
   "execution_count": 3,
   "metadata": {
    "cellView": "both",
    "colab": {
     "autoexec": {
      "startup": false,
      "wait_interval": 0
     },
     "output_extras": [
      {
       "item_id": 1
      }
     ]
    },
    "colab_type": "code",
    "executionInfo": {
     "elapsed": 11952,
     "status": "ok",
     "timestamp": 1446658914857,
     "user": {
      "color": "",
      "displayName": "",
      "isAnonymous": false,
      "isMe": true,
      "permissionId": "",
      "photoUrl": "",
      "sessionId": "0",
      "userId": ""
     },
     "user_tz": 480
    },
    "id": "IRSyYiIIGIzS",
    "outputId": "650a208c-8359-4852-f4f5-8bf10e80ef6c"
   },
   "outputs": [
    {
     "name": "stdout",
     "output_type": "stream",
     "text": [
      "Training set (32000, 28, 28, 1) (32000, 10)\n",
      "Validation set (10000, 28, 28, 1) (10000, 10)\n",
      "Test set (10000, 28, 28, 1) (10000, 10)\n"
     ]
    }
   ],
   "source": [
    "image_size = 28\n",
    "num_labels = 10\n",
    "num_channels = 1 # grayscale\n",
    "\n",
    "import numpy as np\n",
    "\n",
    "def reformat(dataset, labels):\n",
    "  dataset = dataset.reshape(\n",
    "    (-1, image_size, image_size, num_channels)).astype(np.float32)\n",
    "  labels = (np.arange(num_labels) == labels[:,None]).astype(np.float32)\n",
    "  return dataset, labels\n",
    "train_dataset, train_labels = reformat(train_dataset, train_labels)\n",
    "valid_dataset, valid_labels = reformat(valid_dataset, valid_labels)\n",
    "test_dataset, test_labels = reformat(test_dataset, test_labels)\n",
    "print('Training set', train_dataset.shape, train_labels.shape)\n",
    "print('Validation set', valid_dataset.shape, valid_labels.shape)\n",
    "print('Test set', test_dataset.shape, test_labels.shape)"
   ]
  },
  {
   "cell_type": "code",
   "execution_count": 4,
   "metadata": {
    "cellView": "both",
    "colab": {
     "autoexec": {
      "startup": false,
      "wait_interval": 0
     }
    },
    "colab_type": "code",
    "collapsed": true,
    "id": "AgQDIREv02p1"
   },
   "outputs": [],
   "source": [
    "def accuracy(predictions, labels):\n",
    "  return (100.0 * np.sum(np.argmax(predictions, 1) == np.argmax(labels, 1))\n",
    "          / predictions.shape[0])"
   ]
  },
  {
   "cell_type": "markdown",
   "metadata": {
    "colab_type": "text",
    "id": "5rhgjmROXu2O"
   },
   "source": [
    "Let's build a small network with two convolutional layers, followed by one fully connected layer. Convolutional networks are more expensive computationally, so we'll limit its depth and number of fully connected nodes. **Edit:** Get tensorboard working."
   ]
  },
  {
   "cell_type": "code",
   "execution_count": 5,
   "metadata": {
    "collapsed": true
   },
   "outputs": [],
   "source": [
    "# REF: https://www.tensorflow.org/get_started/summaries_and_tensorboard\n",
    "def variable_summaries(var, hist=True):\n",
    "  \"\"\"Attach a lot of summaries to a Tensor (for TensorBoard visualization).\"\"\"\n",
    "  with tf.name_scope('summaries'):\n",
    "    mean = tf.reduce_mean(var)\n",
    "    tf.summary.scalar('mean', mean)\n",
    "    with tf.name_scope('stddev'):\n",
    "      stddev = tf.sqrt(tf.reduce_mean(tf.square(var - mean)))\n",
    "    tf.summary.scalar('stddev', stddev)\n",
    "    tf.summary.scalar('max', tf.reduce_max(var))\n",
    "    tf.summary.scalar('min', tf.reduce_min(var))\n",
    "    if hist:\n",
    "        tf.summary.histogram('histogram', var)"
   ]
  },
  {
   "cell_type": "code",
   "execution_count": 23,
   "metadata": {
    "cellView": "both",
    "colab": {
     "autoexec": {
      "startup": false,
      "wait_interval": 0
     }
    },
    "colab_type": "code",
    "collapsed": true,
    "id": "IZYv70SvvOan"
   },
   "outputs": [],
   "source": [
    "batch_size = 128\n",
    "patch_size = 5\n",
    "depth = 16\n",
    "num_hidden = 64\n",
    "\n",
    "graph = tf.Graph()\n",
    "\n",
    "with graph.as_default():\n",
    "\n",
    "  # Input data.\n",
    "  with tf.name_scope(\"data\"):\n",
    "    with tf.name_scope(\"train\"):\n",
    "      tf_train_dataset = tf.placeholder(\n",
    "        tf.float32, shape=(batch_size, image_size, image_size, num_channels))\n",
    "      tf_train_labels = tf.placeholder(tf.float32, shape=(batch_size, num_labels))\n",
    "    with tf.name_scope(\"valid\"):\n",
    "      tf_valid_dataset = tf.constant(valid_dataset)\n",
    "    with tf.name_scope(\"test\"):\n",
    "      tf_test_dataset = tf.constant(test_dataset)\n",
    "  \n",
    "  # Variables.\n",
    "  with tf.name_scope(\"Weights/Biases\"):\n",
    "    layer1_weights = tf.Variable(tf.truncated_normal(\n",
    "        [patch_size, patch_size, num_channels, depth], stddev=0.1))\n",
    "    layer1_biases = tf.Variable(tf.zeros([depth]))\n",
    "    layer2_weights = tf.Variable(tf.truncated_normal(\n",
    "        [patch_size, patch_size, depth, depth], stddev=0.1))\n",
    "    layer2_biases = tf.Variable(tf.constant(1.0, shape=[depth]))\n",
    "    layer3_weights = tf.Variable(tf.truncated_normal(\n",
    "        [image_size // 4 * image_size // 4 * depth, num_hidden], stddev=0.1))\n",
    "    layer3_biases = tf.Variable(tf.constant(1.0, shape=[num_hidden]))\n",
    "    layer4_weights = tf.Variable(tf.truncated_normal(\n",
    "        [num_hidden, num_labels], stddev=0.1))\n",
    "    layer4_biases = tf.Variable(tf.constant(1.0, shape=[num_labels]))\n",
    "  \n",
    "  # Model.\n",
    "  def model(data):\n",
    "    with tf.name_scope(\"Layer1\"):\n",
    "      with tf.name_scope(\"Conv1\"):\n",
    "        conv1 = tf.nn.conv2d(data, layer1_weights, [1, 2, 2, 1], padding='SAME', name=\"Conv1\")\n",
    "        variable_summaries(conv1)  \n",
    "      with tf.name_scope(\"Logits1\"):\n",
    "        logits1 = conv1 + layer1_biases\n",
    "        variable_summaries(logits1)  \n",
    "      with tf.name_scope(\"Act1\"):\n",
    "        hidden1 = tf.nn.relu(logits1, name=\"Relu1\")\n",
    "        variable_summaries(hidden1)\n",
    "    with tf.name_scope(\"Layer2\"):\n",
    "      with tf.name_scope(\"Conv2\"):\n",
    "        conv2 = tf.nn.conv2d(hidden1, layer2_weights, [1, 2, 2, 1], padding='SAME', name=\"Conv2\")\n",
    "        variable_summaries(conv2)\n",
    "      with tf.name_scope(\"Logits2\"):\n",
    "        logits2 = conv2 + layer2_biases\n",
    "        variable_summaries(logits2)\n",
    "      with tf.name_scope(\"Logits2\"):\n",
    "        hidden2 = tf.nn.relu(logits2, name=\"Relu2\")\n",
    "        variable_summaries(hidden2)\n",
    "    with tf.name_scope(\"Reshape\"):\n",
    "      shape = hidden2.get_shape().as_list()\n",
    "      reshape = tf.reshape(hidden2, [shape[0], shape[1] * shape[2] * shape[3]])\n",
    "    with tf.name_scope(\"Layer3\"):\n",
    "      with tf.name_scope(\"Logits3\"):\n",
    "        logits3 = tf.matmul(reshape, layer3_weights) + layer3_biases\n",
    "        variable_summaries(logits3)\n",
    "      with tf.name_scope(\"Act3\"):\n",
    "        hidden3 = tf.nn.relu(logits3, name=\"Relu3\")\n",
    "        variable_summaries(hidden3)\n",
    "    with tf.name_scope(\"Layer4\"):\n",
    "      logits4 = tf.matmul(hidden3, layer4_weights) + layer4_biases\n",
    "      variable_summaries(logits4)\n",
    "    return logits4\n",
    "\n",
    "  # Training computation.\n",
    "  logits = model(tf_train_dataset)\n",
    "  loss = tf.reduce_mean(\n",
    "    tf.nn.softmax_cross_entropy_with_logits(logits=logits, labels=tf_train_labels))\n",
    "    \n",
    "  # Optimizer.\n",
    "  optimizer = tf.train.GradientDescentOptimizer(0.05).minimize(loss)\n",
    "  \n",
    "  # Predictions for the training, validation, and test data.\n",
    "  train_prediction = tf.nn.softmax(logits)\n",
    "  valid_prediction = tf.nn.softmax(model(tf_valid_dataset))\n",
    "  test_prediction = tf.nn.softmax(model(tf_test_dataset))"
   ]
  },
  {
   "cell_type": "code",
   "execution_count": 7,
   "metadata": {
    "cellView": "both",
    "colab": {
     "autoexec": {
      "startup": false,
      "wait_interval": 0
     },
     "output_extras": [
      {
       "item_id": 37
      }
     ]
    },
    "colab_type": "code",
    "executionInfo": {
     "elapsed": 63292,
     "status": "ok",
     "timestamp": 1446658966251,
     "user": {
      "color": "",
      "displayName": "",
      "isAnonymous": false,
      "isMe": true,
      "permissionId": "",
      "photoUrl": "",
      "sessionId": "0",
      "userId": ""
     },
     "user_tz": 480
    },
    "id": "noKFb2UovVFR",
    "outputId": "28941338-2ef9-4088-8bd1-44295661e628"
   },
   "outputs": [
    {
     "name": "stdout",
     "output_type": "stream",
     "text": [
      "Initialized\n",
      "Minibatch loss at step 0: 3.471792\n",
      "Minibatch accuracy: 10.2%\n",
      "Validation accuracy: 9.7%\n",
      "Minibatch loss at step 50: 0.896388\n",
      "Minibatch accuracy: 70.3%\n",
      "Validation accuracy: 71.8%\n",
      "Minibatch loss at step 100: 0.655574\n",
      "Minibatch accuracy: 83.6%\n",
      "Validation accuracy: 77.3%\n",
      "Minibatch loss at step 150: 0.593063\n",
      "Minibatch accuracy: 82.8%\n",
      "Validation accuracy: 79.0%\n",
      "Minibatch loss at step 200: 0.638354\n",
      "Minibatch accuracy: 82.0%\n",
      "Validation accuracy: 79.8%\n",
      "Minibatch loss at step 250: 0.804501\n",
      "Minibatch accuracy: 75.0%\n",
      "Validation accuracy: 80.8%\n",
      "Minibatch loss at step 300: 0.652016\n",
      "Minibatch accuracy: 76.6%\n",
      "Validation accuracy: 80.5%\n",
      "Minibatch loss at step 350: 0.695189\n",
      "Minibatch accuracy: 78.9%\n",
      "Validation accuracy: 81.5%\n",
      "Minibatch loss at step 400: 0.571845\n",
      "Minibatch accuracy: 85.9%\n",
      "Validation accuracy: 81.7%\n",
      "Minibatch loss at step 450: 0.532243\n",
      "Minibatch accuracy: 83.6%\n",
      "Validation accuracy: 82.2%\n",
      "Minibatch loss at step 500: 0.675998\n",
      "Minibatch accuracy: 80.5%\n",
      "Validation accuracy: 82.5%\n",
      "Minibatch loss at step 550: 0.577861\n",
      "Minibatch accuracy: 82.0%\n",
      "Validation accuracy: 82.5%\n",
      "Minibatch loss at step 600: 0.737805\n",
      "Minibatch accuracy: 77.3%\n",
      "Validation accuracy: 82.7%\n",
      "Minibatch loss at step 650: 0.737095\n",
      "Minibatch accuracy: 78.1%\n",
      "Validation accuracy: 82.7%\n",
      "Minibatch loss at step 700: 0.578826\n",
      "Minibatch accuracy: 82.0%\n",
      "Validation accuracy: 83.3%\n",
      "Minibatch loss at step 750: 0.521291\n",
      "Minibatch accuracy: 84.4%\n",
      "Validation accuracy: 83.2%\n",
      "Minibatch loss at step 800: 0.544779\n",
      "Minibatch accuracy: 84.4%\n",
      "Validation accuracy: 83.6%\n",
      "Minibatch loss at step 850: 0.531773\n",
      "Minibatch accuracy: 82.8%\n",
      "Validation accuracy: 84.3%\n",
      "Minibatch loss at step 900: 0.396590\n",
      "Minibatch accuracy: 89.1%\n",
      "Validation accuracy: 83.9%\n",
      "Minibatch loss at step 950: 0.492991\n",
      "Minibatch accuracy: 85.9%\n",
      "Validation accuracy: 84.2%\n",
      "Minibatch loss at step 1000: 0.573866\n",
      "Minibatch accuracy: 86.7%\n",
      "Validation accuracy: 83.9%\n",
      "Test accuracy: 90.6%\n"
     ]
    }
   ],
   "source": [
    "num_steps = 1001\n",
    "\n",
    "with tf.Session(graph=graph) as session:\n",
    "  tf.global_variables_initializer().run()\n",
    "  print('Initialized')\n",
    "  for step in range(num_steps):\n",
    "    offset = (step * batch_size) % (train_labels.shape[0] - batch_size)\n",
    "    batch_data = train_dataset[offset:(offset + batch_size), :, :, :]\n",
    "    batch_labels = train_labels[offset:(offset + batch_size), :]\n",
    "    feed_dict = {tf_train_dataset : batch_data, tf_train_labels : batch_labels}\n",
    "    _, l, predictions = session.run(\n",
    "      [optimizer, loss, train_prediction], feed_dict=feed_dict)\n",
    "    if (step % 50 == 0):\n",
    "      print('Minibatch loss at step %d: %f' % (step, l))\n",
    "      print('Minibatch accuracy: %.1f%%' % accuracy(predictions, batch_labels))\n",
    "      print('Validation accuracy: %.1f%%' % accuracy(\n",
    "        valid_prediction.eval(), valid_labels))\n",
    "  print('Test accuracy: %.1f%%' % accuracy(test_prediction.eval(), test_labels))"
   ]
  },
  {
   "cell_type": "markdown",
   "metadata": {},
   "source": [
    "Bringing a few things in from the fullyconnected project."
   ]
  },
  {
   "cell_type": "code",
   "execution_count": 24,
   "metadata": {
    "collapsed": true
   },
   "outputs": [],
   "source": [
    "def run_batch_graph(graph, save_layers, num_steps = 1001, summary_path = './summary/', earliest_stop = 300, stopping_threshold = 3, batch_size=128, report_learning_rate=False):\n",
    "    with tf.Session(graph=graph) as session:\n",
    "        # Merge all the summaries and write them out to /tmp/mnist_logs (by default)\n",
    "        merged_summary = tf.summary.merge_all()\n",
    "        train_writer = tf.summary.FileWriter(summary_path+'train', graph=graph)\n",
    "        test_writer = tf.summary.FileWriter(summary_path+'test')\n",
    "        tf.global_variables_initializer().run()\n",
    "        print('Initialized')\n",
    "\n",
    "        def get_feed_dict(step):\n",
    "            # Pick an offset within the training data, which has been randomized.\n",
    "            # Note: we could use better randomization across epochs.\n",
    "            offset = (step * batch_size) % (train_labels.shape[0] - batch_size)\n",
    "            # Generate a minibatch.\n",
    "            batch_data = train_dataset[offset:(offset + batch_size), :]\n",
    "            batch_labels = train_labels[offset:(offset + batch_size), :]\n",
    "            # Prepare a dictionary telling the session where to feed the minibatch.\n",
    "            # The key of the dictionary is the placeholder node of the graph to be fed,\n",
    "            # and the value is the numpy array to feed to it.\n",
    "            feed_dict = {tf_train_dataset : batch_data, tf_train_labels : batch_labels}\n",
    "            return feed_dict, (batch_data, batch_labels)\n",
    "\n",
    "        def test_step(step):\n",
    "            feed_dict, (batch_data, batch_labels) = get_feed_dict(step)\n",
    "            summary, test = session.run([merged_summary, test_prediction], feed_dict=feed_dict)\n",
    "            test_writer.add_summary(summary, step)\n",
    "            test = accuracy(test, test_labels)\n",
    "            print(\"Step {}: Test: {}%\".format(step, test))\n",
    "            return test\n",
    "\n",
    "        def train_step(step, verify=False, summary=False):\n",
    "            feed_dict, (batch_data, batch_labels) = get_feed_dict(step)\n",
    "            if verify:\n",
    "                if not report_learning_rate:\n",
    "                    if summary:\n",
    "                        summ, _, train, valid = session.run([merged_summary, optimizer, train_prediction, valid_prediction], feed_dict=feed_dict)\n",
    "                        train_writer.add_summary(summ, step)\n",
    "                    else:\n",
    "                        summ, _, train, valid = session.run([optimizer, train_prediction, valid_prediction], feed_dict=feed_dict)\n",
    "                    train = accuracy(train, batch_labels)\n",
    "                    valid = accuracy(valid, valid_labels)\n",
    "                    print(\"Step {}: Train: {}% Valid: {}%\".format(step, train, valid))\n",
    "                    return train, valid\n",
    "                else:\n",
    "                    if summary:\n",
    "                        summary, _, train, valid, lr = session.run([merged_summary, optimizer, train_prediction, valid_prediction, learning_rate], feed_dict=feed_dict)\n",
    "                        train_writer.add_summary(summary, step)\n",
    "                    else:\n",
    "                        _, train, valid, lr = session.run([optimizer, train_prediction, valid_prediction, learning_rate], feed_dict=feed_dict)\n",
    "                    train = accuracy(train, batch_labels)\n",
    "                    valid = accuracy(valid, valid_labels)\n",
    "                    print(\"Step {}: Train: {}% Valid: {}% Lr: {}\".format(step, train, valid, lr))\n",
    "                    return train, valid\n",
    "            elif summary:\n",
    "                summary, _ = session.run([merged_summary, optimizer], feed_dict=feed_dict)\n",
    "                train_writer.add_summary(summary, step)\n",
    "            else:\n",
    "                session.run([optimizer], feed_dict=feed_dict)\n",
    "\n",
    "        # Early Stopping\n",
    "        saver = tf.train.Saver(save_layers)\n",
    "        \n",
    "        # Main Loop\n",
    "        try:\n",
    "            for step in range(num_steps):\n",
    "                # Run the computations. We tell .run() that we want to run the optimizer,\n",
    "                # and get the loss value and the training predictions returned as numpy\n",
    "                # arrays.\n",
    "                # Every 1000 steps, test the test accuracy without training\n",
    "                if (step == num_steps-1):\n",
    "                    test_step(step)\n",
    "\n",
    "                # Every 100 steps, test training and validation accuracy\n",
    "                elif (step % (num_steps//10) == 0):\n",
    "                    saver.save(session, summary_path+\"train/single_layer{}.chk\".format(step), global_step=step)\n",
    "                    train, valid = train_step(step, verify=True, summary=True)\n",
    "\n",
    "                    # Early Stopping\n",
    "                    if abs(train-valid)>stopping_threshold and step>earliest_stop and earliest_stop>=0:\n",
    "                        print(\"Stopping Early!\")\n",
    "                        test_step(step)\n",
    "                        break\n",
    "\n",
    "                # Normal, fast, training step\n",
    "                else:\n",
    "                    train_step(step)\n",
    "        except KeyboardInterrupt:\n",
    "            print(\"Stopping Early!\")\n",
    "            test_step(step)"
   ]
  },
  {
   "cell_type": "markdown",
   "metadata": {},
   "source": [
    "Does it work on our graph?"
   ]
  },
  {
   "cell_type": "code",
   "execution_count": 25,
   "metadata": {},
   "outputs": [
    {
     "name": "stdout",
     "output_type": "stream",
     "text": [
      "Initialized\n",
      "Step 0: Train: 5.46875% Valid: 10.0%\n",
      "Step 100: Train: 86.71875% Valid: 77.29%\n",
      "Step 200: Train: 82.03125% Valid: 80.41%\n",
      "Step 300: Train: 81.25% Valid: 81.11%\n",
      "Step 400: Train: 84.375% Valid: 82.54%\n",
      "Step 500: Train: 81.25% Valid: 83.04%\n",
      "Step 600: Train: 81.25% Valid: 83.08%\n",
      "Step 700: Train: 83.59375% Valid: 83.72%\n",
      "Step 800: Train: 86.71875% Valid: 83.56%\n",
      "Step 900: Train: 87.5% Valid: 84.14%\n",
      "Step 1000: Test: 91.15%\n"
     ]
    }
   ],
   "source": [
    "run_batch_graph(graph, save_layers=[layer1_weights, layer1_biases, \\\n",
    "                                    layer2_weights, layer2_biases, layer3_weights, layer3_biases, \\\n",
    "                                    layer4_weights, layer4_biases], \\\n",
    "                num_steps = 1001, summary_path = './summary/convolutions/basic/', earliest_stop = -1, \\\n",
    "                batch_size=batch_size, report_learning_rate=False)"
   ]
  },
  {
   "cell_type": "markdown",
   "metadata": {
    "colab_type": "text",
    "id": "KedKkn4EutIK"
   },
   "source": [
    "---\n",
    "Problem 1\n",
    "---------\n",
    "\n",
    "The convolutional model above uses convolutions with stride 2 to reduce the dimensionality. Replace the strides by a max pooling operation (`nn.max_pool()`) of stride 2 and kernel size 2.\n",
    "\n",
    "---"
   ]
  },
  {
   "cell_type": "code",
   "execution_count": 31,
   "metadata": {},
   "outputs": [],
   "source": [
    "batch_size = 128\n",
    "patch_size = 5\n",
    "depth = 16\n",
    "num_hidden = 64\n",
    "\n",
    "graph = tf.Graph()\n",
    "\n",
    "with graph.as_default():\n",
    "\n",
    "  # Input data.\n",
    "  with tf.name_scope(\"data\"):\n",
    "    with tf.name_scope(\"train\"):\n",
    "      tf_train_dataset = tf.placeholder(\n",
    "        tf.float32, shape=(batch_size, image_size, image_size, num_channels))\n",
    "      tf_train_labels = tf.placeholder(tf.float32, shape=(batch_size, num_labels))\n",
    "    with tf.name_scope(\"valid\"):\n",
    "      tf_valid_dataset = tf.constant(valid_dataset)\n",
    "    with tf.name_scope(\"test\"):\n",
    "      tf_test_dataset = tf.constant(test_dataset)\n",
    "  \n",
    "  # Variables.\n",
    "  with tf.name_scope(\"Weights/Biases\"):\n",
    "    layer1_weights = tf.Variable(tf.truncated_normal(\n",
    "        [patch_size, patch_size, num_channels, depth], stddev=0.1))\n",
    "    layer1_biases = tf.Variable(tf.zeros([depth]))\n",
    "    layer2_weights = tf.Variable(tf.truncated_normal(\n",
    "        [patch_size, patch_size, depth, depth], stddev=0.1))\n",
    "    layer2_biases = tf.Variable(tf.constant(1.0, shape=[depth]))\n",
    "    layer3_weights = tf.Variable(tf.truncated_normal(\n",
    "        [image_size // 4 * image_size // 4 * depth, num_hidden], stddev=0.1))\n",
    "    layer3_biases = tf.Variable(tf.constant(1.0, shape=[num_hidden]))\n",
    "    layer4_weights = tf.Variable(tf.truncated_normal(\n",
    "        [num_hidden, num_labels], stddev=0.1))\n",
    "    layer4_biases = tf.Variable(tf.constant(1.0, shape=[num_labels]))\n",
    "  \n",
    "  # Model.\n",
    "  def model(data):\n",
    "    with tf.name_scope(\"Layer1\"):\n",
    "      with tf.name_scope(\"Conv1\"):\n",
    "        conv1 = tf.nn.conv2d(data, layer1_weights, [1, 1, 1, 1], padding='SAME')\n",
    "        variable_summaries(conv1)  \n",
    "      with tf.name_scope(\"Logits1\"):\n",
    "        logits1 = conv1 + layer1_biases\n",
    "        variable_summaries(logits1)\n",
    "      with tf.name_scope(\"Act1\"):\n",
    "        hidden1 = tf.nn.relu(logits1, name=\"Relu1\")\n",
    "        variable_summaries(hidden1)\n",
    "      with tf.name_scope(\"Pooling1\"):\n",
    "        pool1 = tf.nn.max_pool(hidden1, [1, 2, 2, 1], [1, 2, 2, 1], padding=\"SAME\")\n",
    "        variable_summaries(pool1)\n",
    "    with tf.name_scope(\"Layer2\"):\n",
    "      with tf.name_scope(\"Conv2\"):\n",
    "        conv2 = tf.nn.conv2d(pool1, layer2_weights, [1, 1, 1, 1], padding='SAME')\n",
    "        variable_summaries(conv2)\n",
    "      with tf.name_scope(\"Logits2\"):\n",
    "        logits2 = conv2 + layer2_biases\n",
    "        variable_summaries(logits2)\n",
    "      with tf.name_scope(\"Logits2\"):\n",
    "        hidden2 = tf.nn.relu(logits2, name=\"Relu2\")\n",
    "        variable_summaries(hidden2)\n",
    "      with tf.name_scope(\"Pooling2\"):\n",
    "        pool2 = tf.nn.max_pool(hidden2, [1, 2, 2, 1], [1, 2, 2, 1], padding=\"SAME\")\n",
    "        variable_summaries(pool2)\n",
    "    with tf.name_scope(\"Reshape\"):\n",
    "      shape = pool2.get_shape().as_list()\n",
    "      reshape = tf.reshape(pool2, [shape[0], shape[1] * shape[2] * shape[3]])\n",
    "    with tf.name_scope(\"Layer3\"):\n",
    "      with tf.name_scope(\"Logits3\"):\n",
    "        logits3 = tf.matmul(reshape, layer3_weights) + layer3_biases\n",
    "        variable_summaries(logits3)\n",
    "      with tf.name_scope(\"Act3\"):\n",
    "        hidden3 = tf.nn.relu(logits3, name=\"Relu3\")\n",
    "        variable_summaries(hidden3)\n",
    "    with tf.name_scope(\"Layer4\"):\n",
    "      logits4 = tf.matmul(hidden3, layer4_weights) + layer4_biases\n",
    "      variable_summaries(logits4)\n",
    "    return logits4\n",
    "\n",
    "  # Training computation.\n",
    "  logits = model(tf_train_dataset)\n",
    "  loss = tf.reduce_mean(\n",
    "    tf.nn.softmax_cross_entropy_with_logits(logits=logits, labels=tf_train_labels))\n",
    "    \n",
    "  # Optimizer.\n",
    "  optimizer = tf.train.GradientDescentOptimizer(0.05).minimize(loss)\n",
    "  \n",
    "  # Predictions for the training, validation, and test data.\n",
    "  train_prediction = tf.nn.softmax(logits)\n",
    "  valid_prediction = tf.nn.softmax(model(tf_valid_dataset))\n",
    "  test_prediction = tf.nn.softmax(model(tf_test_dataset))"
   ]
  },
  {
   "cell_type": "code",
   "execution_count": null,
   "metadata": {},
   "outputs": [
    {
     "name": "stdout",
     "output_type": "stream",
     "text": [
      "Initialized\n",
      "Step 0: Train: 9.375% Valid: 10.0%\n"
     ]
    }
   ],
   "source": [
    "run_batch_graph(graph, save_layers=[layer1_weights, layer1_biases, \\\n",
    "                                    layer2_weights, layer2_biases, layer3_weights, layer3_biases, \\\n",
    "                                    layer4_weights, layer4_biases], \\\n",
    "                num_steps = 1001, summary_path = './summary/convolutions/pooling/', earliest_stop = -1, \\\n",
    "                batch_size=batch_size, report_learning_rate=False)"
   ]
  },
  {
   "cell_type": "markdown",
   "metadata": {},
   "source": [
    "Now lets use both:"
   ]
  },
  {
   "cell_type": "code",
   "execution_count": null,
   "metadata": {
    "collapsed": true
   },
   "outputs": [],
   "source": [
    "batch_size = 128\n",
    "patch_size = 5\n",
    "depth = 16\n",
    "num_hidden = 64\n",
    "\n",
    "graph = tf.Graph()\n",
    "\n",
    "with graph.as_default():\n",
    "\n",
    "  # Input data.\n",
    "  with tf.name_scope(\"data\"):\n",
    "    with tf.name_scope(\"train\"):\n",
    "      tf_train_dataset = tf.placeholder(\n",
    "        tf.float32, shape=(batch_size, image_size, image_size, num_channels))\n",
    "      tf_train_labels = tf.placeholder(tf.float32, shape=(batch_size, num_labels))\n",
    "    with tf.name_scope(\"valid\"):\n",
    "      tf_valid_dataset = tf.constant(valid_dataset)\n",
    "    with tf.name_scope(\"test\"):\n",
    "      tf_test_dataset = tf.constant(test_dataset)\n",
    "  \n",
    "  # Variables.\n",
    "  with tf.name_scope(\"Weights/Biases\"):\n",
    "    layer1_weights = tf.Variable(tf.truncated_normal(\n",
    "        [patch_size, patch_size, num_channels, depth], stddev=0.1))\n",
    "    layer1_biases = tf.Variable(tf.zeros([depth]))\n",
    "    layer2_weights = tf.Variable(tf.truncated_normal(\n",
    "        [patch_size, patch_size, depth, depth], stddev=0.1))\n",
    "    layer2_biases = tf.Variable(tf.constant(1.0, shape=[depth]))\n",
    "    layer3_weights = tf.Variable(tf.truncated_normal(\n",
    "        [image_size // 4 * image_size // 4 * depth, num_hidden], stddev=0.1))\n",
    "    layer3_biases = tf.Variable(tf.constant(1.0, shape=[num_hidden]))\n",
    "    layer4_weights = tf.Variable(tf.truncated_normal(\n",
    "        [num_hidden, num_labels], stddev=0.1))\n",
    "    layer4_biases = tf.Variable(tf.constant(1.0, shape=[num_labels]))\n",
    "  \n",
    "  # Model.\n",
    "  def model(data):\n",
    "    with tf.name_scope(\"Layer1\"):\n",
    "      with tf.name_scope(\"Conv1\"):\n",
    "        conv1 = tf.nn.conv2d(data, layer1_weights, [1, 2, 2, 1], padding='SAME')\n",
    "        #variable_summaries(conv1)  \n",
    "      with tf.name_scope(\"Logits1\"):\n",
    "        logits1 = conv1 + layer1_biases\n",
    "        #variable_summaries(logits1)\n",
    "      with tf.name_scope(\"Act1\"):\n",
    "        hidden1 = tf.nn.relu(logits1, name=\"Relu1\")\n",
    "        variable_summaries(hidden1)\n",
    "      with tf.name_scope(\"Pooling1\"):\n",
    "        pool1 = tf.nn.max_pool(hidden1, [1, 2, 2, 1], [1, 2, 2, 1], padding=\"SAME\")\n",
    "        variable_summaries(pool1)\n",
    "    with tf.name_scope(\"Layer2\"):\n",
    "      with tf.name_scope(\"Conv2\"):\n",
    "        conv2 = tf.nn.conv2d(pool1, layer2_weights, [1, 2, 2, 1], padding='SAME')\n",
    "        #variable_summaries(conv2)\n",
    "      with tf.name_scope(\"Logits2\"):\n",
    "        logits2 = conv2 + layer2_biases\n",
    "        #variable_summaries(logits2)\n",
    "      with tf.name_scope(\"Logits2\"):\n",
    "        hidden2 = tf.nn.relu(logits2, name=\"Relu2\")\n",
    "        variable_summaries(hidden2)\n",
    "      with tf.name_scope(\"Pooling2\"):\n",
    "        pool2 = tf.nn.max_pool(hidden2, [1, 2, 2, 1], [1, 2, 2, 1], padding=\"SAME\")\n",
    "        variable_summaries(pool2)\n",
    "    with tf.name_scope(\"Reshape\"):\n",
    "      shape = pool2.get_shape().as_list()\n",
    "      reshape = tf.reshape(hidden2, [shape[0], shape[1] * shape[2] * shape[3]])\n",
    "    with tf.name_scope(\"Layer3\"):\n",
    "      with tf.name_scope(\"Logits3\"):\n",
    "        logits3 = tf.matmul(reshape, layer3_weights) + layer3_biases\n",
    "        #variable_summaries(logits3)\n",
    "      with tf.name_scope(\"Act3\"):\n",
    "        hidden3 = tf.nn.relu(logits3, name=\"Relu3\")\n",
    "        variable_summaries(hidden3)\n",
    "    with tf.name_scope(\"Layer4\"):\n",
    "      logits4 = tf.matmul(hidden3, layer4_weights) + layer4_biases\n",
    "      #variable_summaries(logits4)\n",
    "    return logits4\n",
    "\n",
    "  # Training computation.\n",
    "  logits = model(tf_train_dataset)\n",
    "  loss = tf.reduce_mean(\n",
    "    tf.nn.softmax_cross_entropy_with_logits(logits=logits, labels=tf_train_labels))\n",
    "    \n",
    "  # Optimizer.\n",
    "  optimizer = tf.train.GradientDescentOptimizer(0.05).minimize(loss)\n",
    "  \n",
    "  # Predictions for the training, validation, and test data.\n",
    "  train_prediction = tf.nn.softmax(logits)\n",
    "  valid_prediction = tf.nn.softmax(model(tf_valid_dataset))\n",
    "  test_prediction = tf.nn.softmax(model(tf_test_dataset))"
   ]
  },
  {
   "cell_type": "code",
   "execution_count": null,
   "metadata": {
    "collapsed": true
   },
   "outputs": [],
   "source": [
    "run_batch_graph(graph, save_layers=[layer1_weights, layer1_biases, \\\n",
    "                                    layer2_weights, layer2_biases, layer3_weights, layer3_biases, \\\n",
    "                                    layer4_weights, layer4_biases], \\\n",
    "                num_steps = 1001, summary_path = './summary/convolutions/both/', earliest_stop = -1, \\\n",
    "                batch_size=batch_size, report_learning_rate=False)"
   ]
  },
  {
   "cell_type": "markdown",
   "metadata": {
    "colab_type": "text",
    "id": "klf21gpbAgb-"
   },
   "source": [
    "---\n",
    "Problem 2\n",
    "---------\n",
    "\n",
    "Try to get the best performance you can using a convolutional net. Look for example at the classic [LeNet5](http://yann.lecun.com/exdb/lenet/) architecture, adding Dropout, and/or adding learning rate decay. **Edit:** Also try inception learning.\n",
    "\n",
    "---"
   ]
  },
  {
   "cell_type": "markdown",
   "metadata": {},
   "source": [
    "## Problem 3\n",
    "Get Tensorboard Images working and get inverse pooling working."
   ]
  },
  {
   "cell_type": "code",
   "execution_count": null,
   "metadata": {
    "collapsed": true
   },
   "outputs": [],
   "source": []
  }
 ],
 "metadata": {
  "colab": {
   "default_view": {},
   "name": "4_convolutions.ipynb",
   "provenance": [],
   "version": "0.3.2",
   "views": {}
  },
  "kernelspec": {
   "display_name": "Python 3",
   "language": "python",
   "name": "python3"
  },
  "language_info": {
   "codemirror_mode": {
    "name": "ipython",
    "version": 3
   },
   "file_extension": ".py",
   "mimetype": "text/x-python",
   "name": "python",
   "nbconvert_exporter": "python",
   "pygments_lexer": "ipython3",
   "version": "3.4.3"
  }
 },
 "nbformat": 4,
 "nbformat_minor": 1
}
