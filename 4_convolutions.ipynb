{
 "cells": [
  {
   "cell_type": "markdown",
   "metadata": {
    "colab_type": "text",
    "deletable": true,
    "editable": true,
    "id": "4embtkV0pNxM"
   },
   "source": [
    "Deep Learning\n",
    "=============\n",
    "\n",
    "Assignment 4\n",
    "------------\n",
    "\n",
    "Previously in `2_fullyconnected.ipynb` and `3_regularization.ipynb`, we trained fully connected networks to classify [notMNIST](http://yaroslavvb.blogspot.com/2011/09/notmnist-dataset.html) characters.\n",
    "\n",
    "The goal of this assignment is make the neural network convolutional."
   ]
  },
  {
   "cell_type": "code",
   "execution_count": 1,
   "metadata": {
    "cellView": "both",
    "colab": {
     "autoexec": {
      "startup": false,
      "wait_interval": 0
     }
    },
    "colab_type": "code",
    "collapsed": true,
    "deletable": true,
    "editable": true,
    "id": "tm2CQN_Cpwj0"
   },
   "outputs": [],
   "source": [
    "# These are all the modules we'll be using later. Make sure you can import them\n",
    "# before proceeding further.\n",
    "from __future__ import print_function\n",
    "import numpy as np\n",
    "import tensorflow as tf\n",
    "from six.moves import cPickle as pickle\n",
    "from six.moves import range"
   ]
  },
  {
   "cell_type": "code",
   "execution_count": 2,
   "metadata": {
    "cellView": "both",
    "colab": {
     "autoexec": {
      "startup": false,
      "wait_interval": 0
     },
     "output_extras": [
      {
       "item_id": 1
      }
     ]
    },
    "colab_type": "code",
    "collapsed": false,
    "deletable": true,
    "editable": true,
    "executionInfo": {
     "elapsed": 11948,
     "status": "ok",
     "timestamp": 1446658914837,
     "user": {
      "color": "",
      "displayName": "",
      "isAnonymous": false,
      "isMe": true,
      "permissionId": "",
      "photoUrl": "",
      "sessionId": "0",
      "userId": ""
     },
     "user_tz": 480
    },
    "id": "y3-cj1bpmuxc",
    "outputId": "016b1a51-0290-4b08-efdb-8c95ffc3cd01"
   },
   "outputs": [
    {
     "name": "stdout",
     "output_type": "stream",
     "text": [
      "Training set (32000, 28, 28) (32000,)\n",
      "Validation set (5000, 28, 28) (5000,)\n",
      "Test set (5000, 28, 28) (5000,)\n"
     ]
    }
   ],
   "source": [
    "pickle_file = 'notMNIST.pickle'\n",
    "\n",
    "with open(pickle_file, 'rb') as f:\n",
    "  save = pickle.load(f)\n",
    "  train_dataset = save['train_dataset']\n",
    "  train_labels = save['train_labels']\n",
    "  valid_dataset = save['valid_dataset']\n",
    "  valid_labels = save['valid_labels']\n",
    "  test_dataset = save['test_dataset']\n",
    "  test_labels = save['test_labels']\n",
    "  del save  # hint to help gc free up memory\n",
    "  print('Training set', train_dataset.shape, train_labels.shape)\n",
    "  print('Validation set', valid_dataset.shape, valid_labels.shape)\n",
    "  print('Test set', test_dataset.shape, test_labels.shape)"
   ]
  },
  {
   "cell_type": "markdown",
   "metadata": {
    "colab_type": "text",
    "deletable": true,
    "editable": true,
    "id": "L7aHrm6nGDMB"
   },
   "source": [
    "Reformat into a TensorFlow-friendly shape:\n",
    "- convolutions need the image data formatted as a cube (width by height by #channels)\n",
    "- labels as float 1-hot encodings."
   ]
  },
  {
   "cell_type": "code",
   "execution_count": 3,
   "metadata": {
    "cellView": "both",
    "colab": {
     "autoexec": {
      "startup": false,
      "wait_interval": 0
     },
     "output_extras": [
      {
       "item_id": 1
      }
     ]
    },
    "colab_type": "code",
    "collapsed": false,
    "deletable": true,
    "editable": true,
    "executionInfo": {
     "elapsed": 11952,
     "status": "ok",
     "timestamp": 1446658914857,
     "user": {
      "color": "",
      "displayName": "",
      "isAnonymous": false,
      "isMe": true,
      "permissionId": "",
      "photoUrl": "",
      "sessionId": "0",
      "userId": ""
     },
     "user_tz": 480
    },
    "id": "IRSyYiIIGIzS",
    "outputId": "650a208c-8359-4852-f4f5-8bf10e80ef6c"
   },
   "outputs": [
    {
     "name": "stdout",
     "output_type": "stream",
     "text": [
      "Training set (32000, 28, 28, 1) (32000, 10)\n",
      "Validation set (5000, 28, 28, 1) (5000, 10)\n",
      "Test set (5000, 28, 28, 1) (5000, 10)\n"
     ]
    }
   ],
   "source": [
    "image_size = 28\n",
    "num_labels = 10\n",
    "num_channels = 1 # grayscale\n",
    "\n",
    "import numpy as np\n",
    "\n",
    "def reformat(dataset, labels):\n",
    "  dataset = dataset.reshape(\n",
    "    (-1, image_size, image_size, num_channels)).astype(np.float32)\n",
    "  labels = (np.arange(num_labels) == labels[:,None]).astype(np.float32)\n",
    "  return dataset, labels\n",
    "train_dataset, train_labels = reformat(train_dataset, train_labels)\n",
    "valid_dataset, valid_labels = reformat(valid_dataset, valid_labels)\n",
    "test_dataset, test_labels = reformat(test_dataset, test_labels)\n",
    "print('Training set', train_dataset.shape, train_labels.shape)\n",
    "print('Validation set', valid_dataset.shape, valid_labels.shape)\n",
    "print('Test set', test_dataset.shape, test_labels.shape)"
   ]
  },
  {
   "cell_type": "code",
   "execution_count": 4,
   "metadata": {
    "cellView": "both",
    "colab": {
     "autoexec": {
      "startup": false,
      "wait_interval": 0
     }
    },
    "colab_type": "code",
    "collapsed": true,
    "deletable": true,
    "editable": true,
    "id": "AgQDIREv02p1"
   },
   "outputs": [],
   "source": [
    "def accuracy(predictions, labels):\n",
    "  return (100.0 * np.sum(np.argmax(predictions, 1) == np.argmax(labels, 1))\n",
    "          / predictions.shape[0])"
   ]
  },
  {
   "cell_type": "markdown",
   "metadata": {
    "colab_type": "text",
    "deletable": true,
    "editable": true,
    "id": "5rhgjmROXu2O"
   },
   "source": [
    "Let's build a small network with two convolutional layers, followed by one fully connected layer. Convolutional networks are more expensive computationally, so we'll limit its depth and number of fully connected nodes. **Edit:** Get tensorboard working."
   ]
  },
  {
   "cell_type": "code",
   "execution_count": 5,
   "metadata": {
    "collapsed": true,
    "deletable": true,
    "editable": true
   },
   "outputs": [],
   "source": [
    "# REF: https://www.tensorflow.org/get_started/summaries_and_tensorboard\n",
    "def variable_summaries(var, hist=True):\n",
    "  \"\"\"Attach a lot of summaries to a Tensor (for TensorBoard visualization).\"\"\"\n",
    "  with tf.name_scope('summaries'):\n",
    "    mean = tf.reduce_mean(var)\n",
    "    tf.summary.scalar('mean', mean)\n",
    "    with tf.name_scope('stddev'):\n",
    "      stddev = tf.sqrt(tf.reduce_mean(tf.square(var - mean)))\n",
    "    tf.summary.scalar('stddev', stddev)\n",
    "    tf.summary.scalar('max', tf.reduce_max(var))\n",
    "    tf.summary.scalar('min', tf.reduce_min(var))\n",
    "    if hist:\n",
    "        tf.summary.histogram('histogram', var)"
   ]
  },
  {
   "cell_type": "code",
   "execution_count": 6,
   "metadata": {
    "cellView": "both",
    "colab": {
     "autoexec": {
      "startup": false,
      "wait_interval": 0
     }
    },
    "colab_type": "code",
    "collapsed": true,
    "deletable": true,
    "editable": true,
    "id": "IZYv70SvvOan"
   },
   "outputs": [],
   "source": [
    "batch_size = 128\n",
    "patch_size = 5\n",
    "depth = 16\n",
    "num_hidden = 64\n",
    "\n",
    "graph = tf.Graph()\n",
    "\n",
    "with graph.as_default():\n",
    "\n",
    "  # Input data.\n",
    "  with tf.name_scope(\"data\"):\n",
    "    with tf.name_scope(\"train\"):\n",
    "      tf_train_dataset = tf.placeholder(\n",
    "        tf.float32, shape=(batch_size, image_size, image_size, num_channels))\n",
    "      tf_train_labels = tf.placeholder(tf.float32, shape=(batch_size, num_labels))\n",
    "    with tf.name_scope(\"valid\"):\n",
    "      tf_valid_dataset = tf.constant(valid_dataset)\n",
    "    with tf.name_scope(\"test\"):\n",
    "      tf_test_dataset = tf.constant(test_dataset)\n",
    "  \n",
    "  # Variables.\n",
    "  with tf.name_scope(\"Weights/Biases\"):\n",
    "    layer1_weights = tf.Variable(tf.truncated_normal(\n",
    "        [patch_size, patch_size, num_channels, depth], stddev=0.1))\n",
    "    layer1_biases = tf.Variable(tf.zeros([depth]))\n",
    "    layer2_weights = tf.Variable(tf.truncated_normal(\n",
    "        [patch_size, patch_size, depth, depth], stddev=0.1))\n",
    "    layer2_biases = tf.Variable(tf.constant(1.0, shape=[depth]))\n",
    "    layer3_weights = tf.Variable(tf.truncated_normal(\n",
    "        [image_size // 4 * image_size // 4 * depth, num_hidden], stddev=0.1))\n",
    "    layer3_biases = tf.Variable(tf.constant(1.0, shape=[num_hidden]))\n",
    "    layer4_weights = tf.Variable(tf.truncated_normal(\n",
    "        [num_hidden, num_labels], stddev=0.1))\n",
    "    layer4_biases = tf.Variable(tf.constant(1.0, shape=[num_labels]))\n",
    "  \n",
    "  # Model.\n",
    "  def model(data):\n",
    "    with tf.name_scope(\"Layer1\"):\n",
    "      with tf.name_scope(\"Conv1\"):\n",
    "        conv1 = tf.nn.conv2d(data, layer1_weights, [1, 2, 2, 1], padding='SAME', name=\"Conv1\")\n",
    "        variable_summaries(conv1)  \n",
    "      with tf.name_scope(\"Logits1\"):\n",
    "        logits1 = conv1 + layer1_biases\n",
    "        variable_summaries(logits1)  \n",
    "      with tf.name_scope(\"Act1\"):\n",
    "        hidden1 = tf.nn.relu(logits1, name=\"Relu1\")\n",
    "        variable_summaries(hidden1)\n",
    "    with tf.name_scope(\"Layer2\"):\n",
    "      with tf.name_scope(\"Conv2\"):\n",
    "        conv2 = tf.nn.conv2d(hidden1, layer2_weights, [1, 2, 2, 1], padding='SAME', name=\"Conv2\")\n",
    "        variable_summaries(conv2)\n",
    "      with tf.name_scope(\"Logits2\"):\n",
    "        logits2 = conv2 + layer2_biases\n",
    "        variable_summaries(logits2)\n",
    "      with tf.name_scope(\"Logits2\"):\n",
    "        hidden2 = tf.nn.relu(logits2, name=\"Relu2\")\n",
    "        variable_summaries(hidden2)\n",
    "    with tf.name_scope(\"Reshape\"):\n",
    "      shape = hidden2.get_shape().as_list()\n",
    "      reshape = tf.reshape(hidden2, [shape[0], shape[1] * shape[2] * shape[3]])\n",
    "    with tf.name_scope(\"Layer3\"):\n",
    "      with tf.name_scope(\"Logits3\"):\n",
    "        logits3 = tf.matmul(reshape, layer3_weights) + layer3_biases\n",
    "        variable_summaries(logits3)\n",
    "      with tf.name_scope(\"Act3\"):\n",
    "        hidden3 = tf.nn.relu(logits3, name=\"Relu3\")\n",
    "        variable_summaries(hidden3)\n",
    "    with tf.name_scope(\"Layer4\"):\n",
    "      logits4 = tf.matmul(hidden3, layer4_weights) + layer4_biases\n",
    "      variable_summaries(logits4)\n",
    "    return logits4\n",
    "\n",
    "  # Training computation.\n",
    "  logits = model(tf_train_dataset)\n",
    "  loss = tf.reduce_mean(\n",
    "    tf.nn.softmax_cross_entropy_with_logits(logits=logits, labels=tf_train_labels))\n",
    "    \n",
    "  # Optimizer.\n",
    "  optimizer = tf.train.GradientDescentOptimizer(0.05).minimize(loss)\n",
    "  \n",
    "  # Predictions for the training, validation, and test data.\n",
    "  train_prediction = tf.nn.softmax(logits)\n",
    "  valid_prediction = tf.nn.softmax(model(tf_valid_dataset))\n",
    "  test_prediction = tf.nn.softmax(model(tf_test_dataset))"
   ]
  },
  {
   "cell_type": "code",
   "execution_count": 7,
   "metadata": {
    "cellView": "both",
    "colab": {
     "autoexec": {
      "startup": false,
      "wait_interval": 0
     },
     "output_extras": [
      {
       "item_id": 37
      }
     ]
    },
    "colab_type": "code",
    "collapsed": false,
    "deletable": true,
    "editable": true,
    "executionInfo": {
     "elapsed": 63292,
     "status": "ok",
     "timestamp": 1446658966251,
     "user": {
      "color": "",
      "displayName": "",
      "isAnonymous": false,
      "isMe": true,
      "permissionId": "",
      "photoUrl": "",
      "sessionId": "0",
      "userId": ""
     },
     "user_tz": 480
    },
    "id": "noKFb2UovVFR",
    "outputId": "28941338-2ef9-4088-8bd1-44295661e628"
   },
   "outputs": [
    {
     "name": "stdout",
     "output_type": "stream",
     "text": [
      "Initialized\n",
      "Minibatch loss at step 0: 3.610687\n",
      "Minibatch accuracy: 16.4%\n",
      "Validation accuracy: 16.0%\n",
      "Minibatch loss at step 50: 1.032093\n",
      "Minibatch accuracy: 68.0%\n",
      "Validation accuracy: 73.9%\n",
      "Minibatch loss at step 100: 0.750403\n",
      "Minibatch accuracy: 79.7%\n",
      "Validation accuracy: 79.9%\n",
      "Minibatch loss at step 150: 0.861173\n",
      "Minibatch accuracy: 75.8%\n",
      "Validation accuracy: 80.6%\n",
      "Minibatch loss at step 200: 0.510602\n",
      "Minibatch accuracy: 85.9%\n",
      "Validation accuracy: 81.0%\n",
      "Minibatch loss at step 250: 0.630018\n",
      "Minibatch accuracy: 81.2%\n",
      "Validation accuracy: 81.8%\n",
      "Minibatch loss at step 300: 0.754022\n",
      "Minibatch accuracy: 78.9%\n",
      "Validation accuracy: 82.3%\n",
      "Minibatch loss at step 350: 0.634610\n",
      "Minibatch accuracy: 81.2%\n",
      "Validation accuracy: 82.4%\n",
      "Minibatch loss at step 400: 0.522866\n",
      "Minibatch accuracy: 85.9%\n",
      "Validation accuracy: 82.6%\n",
      "Minibatch loss at step 450: 0.440310\n",
      "Minibatch accuracy: 86.7%\n",
      "Validation accuracy: 82.6%\n",
      "Minibatch loss at step 500: 0.604873\n",
      "Minibatch accuracy: 84.4%\n",
      "Validation accuracy: 83.1%\n",
      "Minibatch loss at step 550: 0.550915\n",
      "Minibatch accuracy: 84.4%\n",
      "Validation accuracy: 83.4%\n",
      "Minibatch loss at step 600: 0.529696\n",
      "Minibatch accuracy: 83.6%\n",
      "Validation accuracy: 84.1%\n",
      "Minibatch loss at step 650: 0.442726\n",
      "Minibatch accuracy: 85.9%\n",
      "Validation accuracy: 83.5%\n",
      "Minibatch loss at step 700: 0.499983\n",
      "Minibatch accuracy: 83.6%\n",
      "Validation accuracy: 83.3%\n",
      "Minibatch loss at step 750: 0.559351\n",
      "Minibatch accuracy: 78.9%\n",
      "Validation accuracy: 83.6%\n",
      "Minibatch loss at step 800: 0.542136\n",
      "Minibatch accuracy: 85.2%\n",
      "Validation accuracy: 84.6%\n",
      "Minibatch loss at step 850: 0.478878\n",
      "Minibatch accuracy: 87.5%\n",
      "Validation accuracy: 84.6%\n",
      "Minibatch loss at step 900: 0.698669\n",
      "Minibatch accuracy: 78.9%\n",
      "Validation accuracy: 84.7%\n",
      "Minibatch loss at step 950: 0.549809\n",
      "Minibatch accuracy: 83.6%\n",
      "Validation accuracy: 84.7%\n",
      "Minibatch loss at step 1000: 0.447636\n",
      "Minibatch accuracy: 85.9%\n",
      "Validation accuracy: 84.7%\n",
      "Test accuracy: 89.5%\n"
     ]
    }
   ],
   "source": [
    "num_steps = 1001\n",
    "\n",
    "with tf.Session(graph=graph) as session:\n",
    "  tf.global_variables_initializer().run()\n",
    "  print('Initialized')\n",
    "  for step in range(num_steps):\n",
    "    offset = (step * batch_size) % (train_labels.shape[0] - batch_size)\n",
    "    batch_data = train_dataset[offset:(offset + batch_size), :, :, :]\n",
    "    batch_labels = train_labels[offset:(offset + batch_size), :]\n",
    "    feed_dict = {tf_train_dataset : batch_data, tf_train_labels : batch_labels}\n",
    "    _, l, predictions = session.run(\n",
    "      [optimizer, loss, train_prediction], feed_dict=feed_dict)\n",
    "    if (step % 50 == 0):\n",
    "      print('Minibatch loss at step %d: %f' % (step, l))\n",
    "      print('Minibatch accuracy: %.1f%%' % accuracy(predictions, batch_labels))\n",
    "      print('Validation accuracy: %.1f%%' % accuracy(\n",
    "        valid_prediction.eval(), valid_labels))\n",
    "  print('Test accuracy: %.1f%%' % accuracy(test_prediction.eval(), test_labels))"
   ]
  },
  {
   "cell_type": "markdown",
   "metadata": {
    "deletable": true,
    "editable": true
   },
   "source": [
    "Bringing a few things in from the fullyconnected project, and tweaking to work with test_accuracy."
   ]
  },
  {
   "cell_type": "code",
   "execution_count": 8,
   "metadata": {
    "collapsed": true,
    "deletable": true,
    "editable": true
   },
   "outputs": [],
   "source": [
    "def run_batch_graph(graph, save_layers, num_steps = 1001, summary_path = './summary/', earliest_stop = 300, stopping_threshold = 3, batch_size=128, report_learning_rate=False):\n",
    "    with tf.Session(graph=graph) as session:\n",
    "        # Merge all the summaries and write them out to /tmp/mnist_logs (by default)\n",
    "        merged_summary = tf.summary.merge_all()\n",
    "        train_writer = tf.summary.FileWriter(summary_path+'train', graph=graph)\n",
    "        test_writer = tf.summary.FileWriter(summary_path+'test')\n",
    "        tf.global_variables_initializer().run()\n",
    "        print('Initialized')\n",
    "\n",
    "        def get_feed_dict(step):\n",
    "            # Pick an offset within the training data, which has been randomized.\n",
    "            # Note: we could use better randomization across epochs.\n",
    "            offset = (step * batch_size) % (train_labels.shape[0] - batch_size)\n",
    "            # Generate a minibatch.\n",
    "            batch_data = train_dataset[offset:(offset + batch_size), :]\n",
    "            batch_labels = train_labels[offset:(offset + batch_size), :]\n",
    "            # Prepare a dictionary telling the session where to feed the minibatch.\n",
    "            # The key of the dictionary is the placeholder node of the graph to be fed,\n",
    "            # and the value is the numpy array to feed to it.\n",
    "            feed_dict = {tf_train_dataset : batch_data, tf_train_labels : batch_labels}\n",
    "            return feed_dict, (batch_data, batch_labels)\n",
    "\n",
    "        def test_step(step):\n",
    "            feed_dict, (batch_data, batch_labels) = get_feed_dict(step)\n",
    "            summary, test = session.run([merged_summary, test_prediction], feed_dict=feed_dict)\n",
    "            test_writer.add_summary(summary, step)\n",
    "            test = accuracy(test, test_labels)\n",
    "            print(\"Step {}: Test: {}%\".format(step, test))\n",
    "            return test\n",
    "\n",
    "        def train_step(step, verify=False, summary=False):\n",
    "            feed_dict, (batch_data, batch_labels) = get_feed_dict(step)\n",
    "            if verify:\n",
    "                if not report_learning_rate:\n",
    "                    if summary:\n",
    "                        summ, _, train, valid = session.run([merged_summary, optimizer, train_prediction, valid_prediction], feed_dict=feed_dict)\n",
    "                        train_writer.add_summary(summ, step)\n",
    "                    else:\n",
    "                        summ, _, train, valid = session.run([optimizer, train_prediction, valid_prediction], feed_dict=feed_dict)\n",
    "                    train = accuracy(train, batch_labels)\n",
    "                    valid = accuracy(valid, valid_labels)\n",
    "                    print(\"Step {}: Train: {}% Valid: {}%\".format(step, train, valid))\n",
    "                    return train, valid\n",
    "                else:\n",
    "                    if summary:\n",
    "                        summary, _, train, valid, lr = session.run([merged_summary, optimizer, train_prediction, valid_prediction, learning_rate], feed_dict=feed_dict)\n",
    "                        train_writer.add_summary(summary, step)\n",
    "                    else:\n",
    "                        _, train, valid, lr = session.run([optimizer, train_prediction, valid_prediction, learning_rate], feed_dict=feed_dict)\n",
    "                    train = accuracy(train, batch_labels)\n",
    "                    valid = accuracy(valid, valid_labels)\n",
    "                    print(\"Step {}: Train: {}% Valid: {}% Lr: {}\".format(step, train, valid, lr))\n",
    "                    return train, valid\n",
    "            elif summary:\n",
    "                summary, _ = session.run([merged_summary, optimizer], feed_dict=feed_dict)\n",
    "                train_writer.add_summary(summary, step)\n",
    "            else:\n",
    "                session.run([optimizer], feed_dict=feed_dict)\n",
    "\n",
    "        # Early Stopping\n",
    "        saver = tf.train.Saver(save_layers)\n",
    "        \n",
    "        # Main Loop\n",
    "        try:\n",
    "            for step in range(num_steps):\n",
    "                # Run the computations. We tell .run() that we want to run the optimizer,\n",
    "                # and get the loss value and the training predictions returned as numpy\n",
    "                # arrays.\n",
    "                # Every 1000 steps, test the test accuracy without training\n",
    "                if (step == num_steps-1):\n",
    "                    test_step(step)\n",
    "\n",
    "                # Every 100 steps, test training and validation accuracy\n",
    "                elif (step % (num_steps//10) == 0):\n",
    "                    saver.save(session, summary_path+\"train/single_layer{}.chk\".format(step), global_step=step)\n",
    "                    train, valid = train_step(step, verify=True, summary=True)\n",
    "\n",
    "                    # Early Stopping\n",
    "                    if abs(train-valid)>stopping_threshold and step>earliest_stop and earliest_stop>=0:\n",
    "                        print(\"Stopping Early!\")\n",
    "                        test_step(step)\n",
    "                        break\n",
    "\n",
    "                # Normal, fast, training step\n",
    "                else:\n",
    "                    train_step(step)\n",
    "        except KeyboardInterrupt:\n",
    "            print(\"Stopping Early!\")\n",
    "            test_step(step)"
   ]
  },
  {
   "cell_type": "markdown",
   "metadata": {
    "deletable": true,
    "editable": true
   },
   "source": [
    "Does it work on our graph?"
   ]
  },
  {
   "cell_type": "code",
   "execution_count": 9,
   "metadata": {
    "collapsed": false,
    "deletable": true,
    "editable": true
   },
   "outputs": [
    {
     "name": "stdout",
     "output_type": "stream",
     "text": [
      "Initialized\n",
      "Step 0: Train: 3.90625% Valid: 8.84%\n",
      "Step 100: Train: 76.5625% Valid: 79.24%\n",
      "Step 200: Train: 88.28125% Valid: 81.96%\n",
      "Step 300: Train: 78.125% Valid: 82.68%\n",
      "Step 400: Train: 85.15625% Valid: 83.4%\n",
      "Step 500: Train: 82.8125% Valid: 83.86%\n",
      "Step 600: Train: 83.59375% Valid: 84.32%\n",
      "Step 700: Train: 87.5% Valid: 84.24%\n",
      "Step 800: Train: 84.375% Valid: 84.72%\n",
      "Step 900: Train: 80.46875% Valid: 84.88%\n",
      "Step 1000: Test: 90.52%\n"
     ]
    }
   ],
   "source": [
    "run_batch_graph(graph, save_layers=[layer1_weights, layer1_biases, \\\n",
    "                                    layer2_weights, layer2_biases, layer3_weights, layer3_biases, \\\n",
    "                                    layer4_weights, layer4_biases], \\\n",
    "                num_steps = 1001, summary_path = './summary/convolutions/basic/', earliest_stop = -1, \\\n",
    "                batch_size=batch_size, report_learning_rate=False)"
   ]
  },
  {
   "cell_type": "markdown",
   "metadata": {
    "colab_type": "text",
    "deletable": true,
    "editable": true,
    "id": "KedKkn4EutIK"
   },
   "source": [
    "---\n",
    "Problem 1\n",
    "---------\n",
    "\n",
    "The convolutional model above uses convolutions with stride 2 to reduce the dimensionality. Replace the strides by a max pooling operation (`nn.max_pool()`) of stride 2 and kernel size 2.\n",
    "\n",
    "---"
   ]
  },
  {
   "cell_type": "code",
   "execution_count": 10,
   "metadata": {
    "collapsed": true,
    "deletable": true,
    "editable": true
   },
   "outputs": [],
   "source": [
    "batch_size = 128\n",
    "patch_size = 5\n",
    "depth = 16\n",
    "num_hidden = 64\n",
    "\n",
    "graph = tf.Graph()\n",
    "\n",
    "with graph.as_default():\n",
    "\n",
    "  # Input data.\n",
    "  with tf.name_scope(\"data\"):\n",
    "    with tf.name_scope(\"train\"):\n",
    "      tf_train_dataset = tf.placeholder(\n",
    "        tf.float32, shape=(batch_size, image_size, image_size, num_channels))\n",
    "      tf_train_labels = tf.placeholder(tf.float32, shape=(batch_size, num_labels))\n",
    "    with tf.name_scope(\"valid\"):\n",
    "      tf_valid_dataset = tf.constant(valid_dataset)\n",
    "    with tf.name_scope(\"test\"):\n",
    "      tf_test_dataset = tf.constant(test_dataset)\n",
    "  \n",
    "  # Variables.\n",
    "  with tf.name_scope(\"Weights/Biases\"):\n",
    "    layer1_weights = tf.Variable(tf.truncated_normal(\n",
    "        [patch_size, patch_size, num_channels, depth], stddev=0.1))\n",
    "    layer1_biases = tf.Variable(tf.zeros([depth]))\n",
    "    layer2_weights = tf.Variable(tf.truncated_normal(\n",
    "        [patch_size, patch_size, depth, depth], stddev=0.1))\n",
    "    layer2_biases = tf.Variable(tf.constant(1.0, shape=[depth]))\n",
    "    layer3_weights = tf.Variable(tf.truncated_normal(\n",
    "        [image_size // 4 * image_size // 4 * depth, num_hidden], stddev=0.1))\n",
    "    layer3_biases = tf.Variable(tf.constant(1.0, shape=[num_hidden]))\n",
    "    layer4_weights = tf.Variable(tf.truncated_normal(\n",
    "        [num_hidden, num_labels], stddev=0.1))\n",
    "    layer4_biases = tf.Variable(tf.constant(1.0, shape=[num_labels]))\n",
    "  \n",
    "  # Model.\n",
    "  def model(data):\n",
    "    with tf.name_scope(\"Layer1\"):\n",
    "      with tf.name_scope(\"Conv1\"):\n",
    "        conv1 = tf.nn.conv2d(data, layer1_weights, [1, 1, 1, 1], padding='SAME')\n",
    "        variable_summaries(conv1)  \n",
    "      with tf.name_scope(\"Logits1\"):\n",
    "        logits1 = conv1 + layer1_biases\n",
    "        variable_summaries(logits1)\n",
    "      with tf.name_scope(\"Act1\"):\n",
    "        hidden1 = tf.nn.relu(logits1, name=\"Relu1\")\n",
    "        variable_summaries(hidden1)\n",
    "      with tf.name_scope(\"Pooling1\"):\n",
    "        pool1 = tf.nn.max_pool(hidden1, [1, 2, 2, 1], [1, 2, 2, 1], padding=\"SAME\")\n",
    "        variable_summaries(pool1)\n",
    "    with tf.name_scope(\"Layer2\"):\n",
    "      with tf.name_scope(\"Conv2\"):\n",
    "        conv2 = tf.nn.conv2d(pool1, layer2_weights, [1, 1, 1, 1], padding='SAME')\n",
    "        variable_summaries(conv2)\n",
    "      with tf.name_scope(\"Logits2\"):\n",
    "        logits2 = conv2 + layer2_biases\n",
    "        variable_summaries(logits2)\n",
    "      with tf.name_scope(\"Logits2\"):\n",
    "        hidden2 = tf.nn.relu(logits2, name=\"Relu2\")\n",
    "        variable_summaries(hidden2)\n",
    "      with tf.name_scope(\"Pooling2\"):\n",
    "        pool2 = tf.nn.max_pool(hidden2, [1, 2, 2, 1], [1, 2, 2, 1], padding=\"SAME\")\n",
    "        variable_summaries(pool2)\n",
    "    with tf.name_scope(\"Reshape\"):\n",
    "      shape = pool2.get_shape().as_list()\n",
    "      reshape = tf.reshape(pool2, [shape[0], shape[1] * shape[2] * shape[3]])\n",
    "    with tf.name_scope(\"Layer3\"):\n",
    "      with tf.name_scope(\"Logits3\"):\n",
    "        logits3 = tf.matmul(reshape, layer3_weights) + layer3_biases\n",
    "        variable_summaries(logits3)\n",
    "      with tf.name_scope(\"Act3\"):\n",
    "        hidden3 = tf.nn.relu(logits3, name=\"Relu3\")\n",
    "        variable_summaries(hidden3)\n",
    "    with tf.name_scope(\"Layer4\"):\n",
    "      logits4 = tf.matmul(hidden3, layer4_weights) + layer4_biases\n",
    "      variable_summaries(logits4)\n",
    "    return logits4\n",
    "\n",
    "  # Training computation.\n",
    "  logits = model(tf_train_dataset)\n",
    "  loss = tf.reduce_mean(\n",
    "    tf.nn.softmax_cross_entropy_with_logits(logits=logits, labels=tf_train_labels))\n",
    "    \n",
    "  # Optimizer.\n",
    "  optimizer = tf.train.GradientDescentOptimizer(0.05).minimize(loss)\n",
    "  \n",
    "  # Predictions for the training, validation, and test data.\n",
    "  train_prediction = tf.nn.softmax(logits)\n",
    "  valid_prediction = tf.nn.softmax(model(tf_valid_dataset))\n",
    "  test_prediction = tf.nn.softmax(model(tf_test_dataset))"
   ]
  },
  {
   "cell_type": "code",
   "execution_count": 11,
   "metadata": {
    "collapsed": false,
    "deletable": true,
    "editable": true
   },
   "outputs": [
    {
     "name": "stdout",
     "output_type": "stream",
     "text": [
      "Initialized\n",
      "Step 0: Train: 4.6875% Valid: 10.4%\n",
      "Step 100: Train: 83.59375% Valid: 78.92%\n",
      "Step 200: Train: 88.28125% Valid: 82.2%\n",
      "Step 300: Train: 77.34375% Valid: 83.62%\n",
      "Step 400: Train: 82.8125% Valid: 84.38%\n",
      "Step 500: Train: 82.03125% Valid: 85.08%\n",
      "Step 600: Train: 84.375% Valid: 85.42%\n",
      "Step 700: Train: 90.625% Valid: 85.96%\n",
      "Step 800: Train: 87.5% Valid: 86.3%\n",
      "Step 900: Train: 79.6875% Valid: 86.86%\n",
      "Step 1000: Test: 91.5%\n"
     ]
    }
   ],
   "source": [
    "run_batch_graph(graph, save_layers=[layer1_weights, layer1_biases, \\\n",
    "                                    layer2_weights, layer2_biases, layer3_weights, layer3_biases, \\\n",
    "                                    layer4_weights, layer4_biases], \\\n",
    "                num_steps = 1001, summary_path = './summary/convolutions/pooling/', earliest_stop = -1, \\\n",
    "                batch_size=batch_size, report_learning_rate=False)"
   ]
  },
  {
   "cell_type": "markdown",
   "metadata": {
    "deletable": true,
    "editable": true
   },
   "source": [
    "### Problem 1.b (Personal)\n",
    "Now lets use both:"
   ]
  },
  {
   "cell_type": "code",
   "execution_count": 18,
   "metadata": {
    "collapsed": false,
    "deletable": true,
    "editable": true
   },
   "outputs": [],
   "source": [
    "batch_size = 128\n",
    "patch_size = 5\n",
    "depth = 16\n",
    "num_hidden = 64\n",
    "\n",
    "graph = tf.Graph()\n",
    "\n",
    "with graph.as_default():\n",
    "\n",
    "  # Input data.\n",
    "  with tf.name_scope(\"data\"):\n",
    "    with tf.name_scope(\"train\"):\n",
    "      tf_train_dataset = tf.placeholder(\n",
    "        tf.float32, shape=(batch_size, image_size, image_size, num_channels))\n",
    "      tf_train_labels = tf.placeholder(tf.float32, shape=(batch_size, num_labels))\n",
    "    with tf.name_scope(\"valid\"):\n",
    "      tf_valid_dataset = tf.constant(valid_dataset)\n",
    "    with tf.name_scope(\"test\"):\n",
    "      tf_test_dataset = tf.constant(test_dataset)\n",
    "  \n",
    "  # Variables.\n",
    "  with tf.name_scope(\"Weights/Biases\"):\n",
    "    layer1_weights = tf.Variable(tf.truncated_normal(\n",
    "        [patch_size, patch_size, num_channels, depth], stddev=0.1))\n",
    "    layer1_biases = tf.Variable(tf.zeros([depth]))\n",
    "    layer2_weights = tf.Variable(tf.truncated_normal(\n",
    "        [patch_size, patch_size, depth, depth], stddev=0.1))\n",
    "    layer2_biases = tf.Variable(tf.constant(1.0, shape=[depth]))\n",
    "    layer3_weights = tf.Variable(tf.truncated_normal(\n",
    "        [image_size // 16 * image_size // 16 * 4 * depth, num_hidden], stddev=0.1))\n",
    "    layer3_biases = tf.Variable(tf.constant(1.0, shape=[num_hidden]))\n",
    "    layer4_weights = tf.Variable(tf.truncated_normal(\n",
    "        [num_hidden, num_labels], stddev=0.1))\n",
    "    layer4_biases = tf.Variable(tf.constant(1.0, shape=[num_labels]))\n",
    "  \n",
    "  # Model.\n",
    "  def model(data):\n",
    "    with tf.name_scope(\"Layer1\"):\n",
    "      with tf.name_scope(\"Conv1\"):\n",
    "        conv1 = tf.nn.conv2d(data, layer1_weights, [1, 2, 2, 1], padding='SAME')\n",
    "        variable_summaries(conv1)  \n",
    "      with tf.name_scope(\"Logits1\"):\n",
    "        logits1 = conv1 + layer1_biases\n",
    "        variable_summaries(logits1)\n",
    "      with tf.name_scope(\"Act1\"):\n",
    "        hidden1 = tf.nn.relu(logits1, name=\"Relu1\")\n",
    "        variable_summaries(hidden1)\n",
    "      with tf.name_scope(\"Pooling1\"):\n",
    "        pool1 = tf.nn.max_pool(hidden1, [1, 2, 2, 1], [1, 2, 2, 1], padding=\"SAME\")\n",
    "        variable_summaries(pool1)\n",
    "    with tf.name_scope(\"Layer2\"):\n",
    "      with tf.name_scope(\"Conv2\"):\n",
    "        conv2 = tf.nn.conv2d(pool1, layer2_weights, [1, 2, 2, 1], padding='SAME')\n",
    "        variable_summaries(conv2)\n",
    "      with tf.name_scope(\"Logits2\"):\n",
    "        logits2 = conv2 + layer2_biases\n",
    "        variable_summaries(logits2)\n",
    "      with tf.name_scope(\"Logits2\"):\n",
    "        hidden2 = tf.nn.relu(logits2, name=\"Relu2\")\n",
    "        variable_summaries(hidden2)\n",
    "      with tf.name_scope(\"Pooling2\"):\n",
    "        pool2 = tf.nn.max_pool(hidden2, [1, 2, 2, 1], [1, 2, 2, 1], padding=\"SAME\")\n",
    "        variable_summaries(pool2)\n",
    "    with tf.name_scope(\"Reshape\"):\n",
    "      shape = pool2.get_shape().as_list()\n",
    "      reshape = tf.reshape(pool2, [shape[0], shape[1] * shape[2] * shape[3]])\n",
    "    with tf.name_scope(\"Layer3\"):\n",
    "      with tf.name_scope(\"Logits3\"):\n",
    "        logits3 = tf.matmul(reshape, layer3_weights) + layer3_biases\n",
    "        variable_summaries(logits3)\n",
    "      with tf.name_scope(\"Act3\"):\n",
    "        hidden3 = tf.nn.relu(logits3, name=\"Relu3\")\n",
    "        variable_summaries(hidden3)\n",
    "    with tf.name_scope(\"Layer4\"):\n",
    "      logits4 = tf.matmul(hidden3, layer4_weights) + layer4_biases\n",
    "      variable_summaries(logits4)\n",
    "    return logits4\n",
    "\n",
    "  # Training computation.\n",
    "  logits = model(tf_train_dataset)\n",
    "  loss = tf.reduce_mean(\n",
    "    tf.nn.softmax_cross_entropy_with_logits(logits=logits, labels=tf_train_labels))\n",
    "    \n",
    "  # Optimizer.\n",
    "  optimizer = tf.train.GradientDescentOptimizer(0.05).minimize(loss)\n",
    "  \n",
    "  # Predictions for the training, validation, and test data.\n",
    "  train_prediction = tf.nn.softmax(logits)\n",
    "  valid_prediction = tf.nn.softmax(model(tf_valid_dataset))\n",
    "  test_prediction = tf.nn.softmax(model(tf_test_dataset))"
   ]
  },
  {
   "cell_type": "code",
   "execution_count": 19,
   "metadata": {
    "collapsed": false,
    "deletable": true,
    "editable": true
   },
   "outputs": [
    {
     "name": "stdout",
     "output_type": "stream",
     "text": [
      "Initialized\n",
      "Step 0: Train: 10.9375% Valid: 10.0%\n",
      "Step 100: Train: 60.15625% Valid: 57.32%\n",
      "Step 200: Train: 80.46875% Valid: 74.68%\n",
      "Step 300: Train: 75.0% Valid: 80.04%\n",
      "Step 400: Train: 83.59375% Valid: 81.18%\n",
      "Step 500: Train: 79.6875% Valid: 82.02%\n",
      "Step 600: Train: 84.375% Valid: 83.04%\n",
      "Step 700: Train: 86.71875% Valid: 83.22%\n",
      "Step 800: Train: 82.8125% Valid: 83.54%\n",
      "Step 900: Train: 76.5625% Valid: 84.16%\n",
      "Step 1000: Test: 88.54%\n"
     ]
    }
   ],
   "source": [
    "run_batch_graph(graph, save_layers=[layer1_weights, layer1_biases, \\\n",
    "                                    layer2_weights, layer2_biases, layer3_weights, layer3_biases, \\\n",
    "                                    layer4_weights, layer4_biases], \\\n",
    "                num_steps = 1001, summary_path = './summary/convolutions/both/', earliest_stop = -1, \\\n",
    "                batch_size=batch_size, report_learning_rate=False)"
   ]
  },
  {
   "cell_type": "markdown",
   "metadata": {
    "colab_type": "text",
    "deletable": true,
    "editable": true,
    "id": "klf21gpbAgb-"
   },
   "source": [
    "---\n",
    "Problem 2\n",
    "---------\n",
    "\n",
    "Try to get the best performance you can using a convolutional net. Look for example at the classic [LeNet5](http://yann.lecun.com/exdb/lenet/) architecture, adding Dropout, and/or adding learning rate decay. **Edit:** Also try inception learning.\n",
    "\n",
    "---"
   ]
  },
  {
   "cell_type": "markdown",
   "metadata": {},
   "source": [
    "### Definitions\n",
    "\n",
    "First I'm going to set up some easy functions for generating linear convolutional layers. I keep the variables and layers seperate for easy modeling."
   ]
  },
  {
   "cell_type": "code",
   "execution_count": 22,
   "metadata": {
    "collapsed": false
   },
   "outputs": [
    {
     "data": {
      "text/plain": [
       "(<tensorflow.python.ops.variables.Variable at 0x2a4c394c160>,\n",
       " <tensorflow.python.ops.variables.Variable at 0x2a59081f9e8>)"
      ]
     },
     "execution_count": 22,
     "metadata": {},
     "output_type": "execute_result"
    }
   ],
   "source": [
    "def linear_variables(patch_size, num_channels, depth):\n",
    "    w = tf.Variable(tf.truncated_normal(\n",
    "            [patch_size, patch_size, num_channels, depth], stddev=0.1))\n",
    "    b = tf.Variable(tf.zeros([depth]))\n",
    "    return w, b\n",
    "linear_variables(5,3,6)"
   ]
  },
  {
   "cell_type": "code",
   "execution_count": 23,
   "metadata": {
    "collapsed": true
   },
   "outputs": [],
   "source": [
    "# Linear convolutionals are used a lot, so lets make a layer\n",
    "def linear_conv(data, patch_size, w, b, name=\"1x1\"):\n",
    "    with tf.name_scope(name):\n",
    "        with tf.name_scope(\"Conv_\"+name):\n",
    "            conv = tf.nn.conv2d(data, w, [1, patch_size, patch_size, 1], padding='SAME')\n",
    "            variable_summaries(conv)  \n",
    "        with tf.name_scope(\"Logits_\"+name):\n",
    "            logits = conv + b\n",
    "            variable_summaries(logits)\n",
    "        with tf.name_scope(\"Act_\"+name):\n",
    "            hidden = tf.nn.relu(logits, name=\"Relu_\"+name)\n",
    "            variable_summaries(hidden)\n",
    "    return conv, logits, hidden"
   ]
  },
  {
   "cell_type": "code",
   "execution_count": 34,
   "metadata": {
    "collapsed": true
   },
   "outputs": [],
   "source": [
    "def inception_variables(prev_depth, depth11, depth_out):\n",
    "    # 1x1 Layers\n",
    "    w11, b11 = linear_variables(1, prev_depth, depth11) # Variables for the 1x1 layer on it's own\n",
    "    wp1, bp1 = linear_variables(1, prev_depth, depth11) # Variables for the 1x1 layer prior to pooling\n",
    "    w13, b13 = linear_variables(1, prev_depth, depth11) # Variables for the 1x1 layer prior to the 3x3\n",
    "    w15, b15 = linear_variables(1, prev_depth, depth11) # Variables for the 1x1 layer prior to the 2x2\n",
    "    \n",
    "    # Other layers\n",
    "    w33, b33 = linear_variables(3, depth11, depth_out)\n",
    "    w55, b55 = linear_variables(5, depth11, depth_out)\n",
    "    \n",
    "    return (w11, b11), (wp1, bp1), \\\n",
    "            (w33, b33), (w55, b55)"
   ]
  },
  {
   "cell_type": "code",
   "execution_count": 35,
   "metadata": {
    "collapsed": true
   },
   "outputs": [],
   "source": [
    "def inception(prev, variables, name=\"inception\"):\n",
    "    # Unpack variables\n",
    "    (w11, b11), (wp1, bp1), \\\n",
    "        (w33, b33), (w55, b55) = variables\n",
    "                \n",
    "    # Package everything in this part of the model under name\n",
    "    with tf.name_scope(name):\n",
    "        \n",
    "        # Single 1x1 layer\n",
    "        var11 = linear_conv(prev, 1, w11, b11, name=\"1x1\")\n",
    "        _, _, out11 = var11  # Unpack var11\n",
    "        \n",
    "        # The Pooling Layer\n",
    "        with tf.name_scope(name+\"_pooling\"):\n",
    "            pool = tf.nn.avg_pool(prev, [1, 2, 2, 1], [1, 2, 2, 1], padding=\"SAME\")\n",
    "            variable_summaries(pool)\n",
    "            varp1 = linear_conv(pool, 1, wp1, bp1, name=\"1x1\")\n",
    "            _, _, outp1 = varp1  # Unpack var\n",
    "        \n",
    "        # The 3x3 Layer\n",
    "        with tf.name_scope(name+\"_3x3\"):\n",
    "            var33 = linear_conv(out11, 1, w33, b33, name=\"3x3\")\n",
    "            _, _, out33 = var33  # Unpack var\n",
    "        \n",
    "        # The 5x5 Layer\n",
    "        with tf.name_scope(name+\"_5x5\"):\n",
    "            var55 = linear_conv(out11, 1, w55, b55, name=\"5x5\")\n",
    "            _, _, out55 = var55  # Unpack var\n",
    "\n",
    "        out = tf.concat([out11, outp1, out33, out55], 3)\n",
    "    \n",
    "    return out, (var11, varp1, pool, var33, var55)"
   ]
  },
  {
   "cell_type": "code",
   "execution_count": 36,
   "metadata": {
    "collapsed": false
   },
   "outputs": [
    {
     "ename": "TypeError",
     "evalue": "Expected int32, got list containing Tensors of type '_Message' instead.",
     "output_type": "error",
     "traceback": [
      "\u001b[1;31m---------------------------------------------------------------------------\u001b[0m",
      "\u001b[1;31mTypeError\u001b[0m                                 Traceback (most recent call last)",
      "\u001b[1;32m<ipython-input-36-540031db75b5>\u001b[0m in \u001b[0;36m<module>\u001b[1;34m()\u001b[0m\n\u001b[0;32m     29\u001b[0m \u001b[1;33m\u001b[0m\u001b[0m\n\u001b[0;32m     30\u001b[0m   \u001b[1;31m# Training computation.\u001b[0m\u001b[1;33m\u001b[0m\u001b[1;33m\u001b[0m\u001b[0m\n\u001b[1;32m---> 31\u001b[1;33m   \u001b[0mlogits\u001b[0m \u001b[1;33m=\u001b[0m \u001b[0mmodel\u001b[0m\u001b[1;33m(\u001b[0m\u001b[0mtf_train_dataset\u001b[0m\u001b[1;33m)\u001b[0m\u001b[1;33m\u001b[0m\u001b[0m\n\u001b[0m\u001b[0;32m     32\u001b[0m   loss = tf.reduce_mean(\n\u001b[0;32m     33\u001b[0m     tf.nn.softmax_cross_entropy_with_logits(logits=logits, labels=tf_train_labels))\n",
      "\u001b[1;32m<ipython-input-36-540031db75b5>\u001b[0m in \u001b[0;36mmodel\u001b[1;34m(data)\u001b[0m\n\u001b[0;32m     25\u001b[0m   \u001b[1;31m# Model.\u001b[0m\u001b[1;33m\u001b[0m\u001b[1;33m\u001b[0m\u001b[0m\n\u001b[0;32m     26\u001b[0m   \u001b[1;32mdef\u001b[0m \u001b[0mmodel\u001b[0m\u001b[1;33m(\u001b[0m\u001b[0mdata\u001b[0m\u001b[1;33m)\u001b[0m\u001b[1;33m:\u001b[0m\u001b[1;33m\u001b[0m\u001b[0m\n\u001b[1;32m---> 27\u001b[1;33m     \u001b[0mout1\u001b[0m\u001b[1;33m,\u001b[0m \u001b[0m_\u001b[0m \u001b[1;33m=\u001b[0m \u001b[0minception\u001b[0m\u001b[1;33m(\u001b[0m\u001b[0mdata\u001b[0m\u001b[1;33m,\u001b[0m \u001b[0mvar1\u001b[0m\u001b[1;33m,\u001b[0m \u001b[0mname\u001b[0m\u001b[1;33m=\u001b[0m\u001b[1;34m\"inception1\"\u001b[0m\u001b[1;33m)\u001b[0m\u001b[1;33m\u001b[0m\u001b[0m\n\u001b[0m\u001b[0;32m     28\u001b[0m     \u001b[1;32mreturn\u001b[0m \u001b[0mout1\u001b[0m\u001b[1;33m\u001b[0m\u001b[0m\n\u001b[0;32m     29\u001b[0m \u001b[1;33m\u001b[0m\u001b[0m\n",
      "\u001b[1;32m<ipython-input-35-8d906e8cb4df>\u001b[0m in \u001b[0;36minception\u001b[1;34m(prev, variables, name)\u001b[0m\n\u001b[0;32m     27\u001b[0m             \u001b[0m_\u001b[0m\u001b[1;33m,\u001b[0m \u001b[0m_\u001b[0m\u001b[1;33m,\u001b[0m \u001b[0mout55\u001b[0m \u001b[1;33m=\u001b[0m \u001b[0mvar55\u001b[0m  \u001b[1;31m# Unpack var\u001b[0m\u001b[1;33m\u001b[0m\u001b[0m\n\u001b[0;32m     28\u001b[0m \u001b[1;33m\u001b[0m\u001b[0m\n\u001b[1;32m---> 29\u001b[1;33m         \u001b[0mout\u001b[0m \u001b[1;33m=\u001b[0m \u001b[0mtf\u001b[0m\u001b[1;33m.\u001b[0m\u001b[0mconcat\u001b[0m\u001b[1;33m(\u001b[0m\u001b[1;33m[\u001b[0m\u001b[0mout11\u001b[0m\u001b[1;33m,\u001b[0m \u001b[0moutp1\u001b[0m\u001b[1;33m,\u001b[0m \u001b[0mout33\u001b[0m\u001b[1;33m,\u001b[0m \u001b[0mout55\u001b[0m\u001b[1;33m]\u001b[0m\u001b[1;33m,\u001b[0m \u001b[1;36m3\u001b[0m\u001b[1;33m)\u001b[0m\u001b[1;33m\u001b[0m\u001b[0m\n\u001b[0m\u001b[0;32m     30\u001b[0m \u001b[1;33m\u001b[0m\u001b[0m\n\u001b[0;32m     31\u001b[0m     \u001b[1;32mreturn\u001b[0m \u001b[0mout\u001b[0m\u001b[1;33m,\u001b[0m \u001b[1;33m(\u001b[0m\u001b[0mvar11\u001b[0m\u001b[1;33m,\u001b[0m \u001b[0mvarp1\u001b[0m\u001b[1;33m,\u001b[0m \u001b[0mpool\u001b[0m\u001b[1;33m,\u001b[0m \u001b[0mvar33\u001b[0m\u001b[1;33m,\u001b[0m \u001b[0mvar55\u001b[0m\u001b[1;33m)\u001b[0m\u001b[1;33m\u001b[0m\u001b[0m\n",
      "\u001b[1;32mc:\\program files\\python35\\lib\\site-packages\\tensorflow\\python\\ops\\array_ops.py\u001b[0m in \u001b[0;36mconcat\u001b[1;34m(concat_dim, values, name)\u001b[0m\n\u001b[0;32m   1073\u001b[0m       ops.convert_to_tensor(concat_dim,\n\u001b[0;32m   1074\u001b[0m                             \u001b[0mname\u001b[0m\u001b[1;33m=\u001b[0m\u001b[1;34m\"concat_dim\"\u001b[0m\u001b[1;33m,\u001b[0m\u001b[1;33m\u001b[0m\u001b[0m\n\u001b[1;32m-> 1075\u001b[1;33m                             \u001b[0mdtype\u001b[0m\u001b[1;33m=\u001b[0m\u001b[0mdtypes\u001b[0m\u001b[1;33m.\u001b[0m\u001b[0mint32\u001b[0m\u001b[1;33m)\u001b[0m\u001b[1;33m.\u001b[0m\u001b[0mget_shape\u001b[0m\u001b[1;33m(\u001b[0m\u001b[1;33m\u001b[0m\u001b[0m\n\u001b[0m\u001b[0;32m   1076\u001b[0m                             ).assert_is_compatible_with(tensor_shape.scalar())\n\u001b[0;32m   1077\u001b[0m       \u001b[1;32mreturn\u001b[0m \u001b[0midentity\u001b[0m\u001b[1;33m(\u001b[0m\u001b[0mvalues\u001b[0m\u001b[1;33m[\u001b[0m\u001b[1;36m0\u001b[0m\u001b[1;33m]\u001b[0m\u001b[1;33m,\u001b[0m \u001b[0mname\u001b[0m\u001b[1;33m=\u001b[0m\u001b[0mscope\u001b[0m\u001b[1;33m)\u001b[0m\u001b[1;33m\u001b[0m\u001b[0m\n",
      "\u001b[1;32mc:\\program files\\python35\\lib\\site-packages\\tensorflow\\python\\framework\\ops.py\u001b[0m in \u001b[0;36mconvert_to_tensor\u001b[1;34m(value, dtype, name, as_ref, preferred_dtype)\u001b[0m\n\u001b[0;32m    667\u001b[0m \u001b[1;33m\u001b[0m\u001b[0m\n\u001b[0;32m    668\u001b[0m         \u001b[1;32mif\u001b[0m \u001b[0mret\u001b[0m \u001b[1;32mis\u001b[0m \u001b[1;32mNone\u001b[0m\u001b[1;33m:\u001b[0m\u001b[1;33m\u001b[0m\u001b[0m\n\u001b[1;32m--> 669\u001b[1;33m           \u001b[0mret\u001b[0m \u001b[1;33m=\u001b[0m \u001b[0mconversion_func\u001b[0m\u001b[1;33m(\u001b[0m\u001b[0mvalue\u001b[0m\u001b[1;33m,\u001b[0m \u001b[0mdtype\u001b[0m\u001b[1;33m=\u001b[0m\u001b[0mdtype\u001b[0m\u001b[1;33m,\u001b[0m \u001b[0mname\u001b[0m\u001b[1;33m=\u001b[0m\u001b[0mname\u001b[0m\u001b[1;33m,\u001b[0m \u001b[0mas_ref\u001b[0m\u001b[1;33m=\u001b[0m\u001b[0mas_ref\u001b[0m\u001b[1;33m)\u001b[0m\u001b[1;33m\u001b[0m\u001b[0m\n\u001b[0m\u001b[0;32m    670\u001b[0m \u001b[1;33m\u001b[0m\u001b[0m\n\u001b[0;32m    671\u001b[0m         \u001b[1;32mif\u001b[0m \u001b[0mret\u001b[0m \u001b[1;32mis\u001b[0m \u001b[0mNotImplemented\u001b[0m\u001b[1;33m:\u001b[0m\u001b[1;33m\u001b[0m\u001b[0m\n",
      "\u001b[1;32mc:\\program files\\python35\\lib\\site-packages\\tensorflow\\python\\framework\\constant_op.py\u001b[0m in \u001b[0;36m_constant_tensor_conversion_function\u001b[1;34m(v, dtype, name, as_ref)\u001b[0m\n\u001b[0;32m    174\u001b[0m                                          as_ref=False):\n\u001b[0;32m    175\u001b[0m   \u001b[0m_\u001b[0m \u001b[1;33m=\u001b[0m \u001b[0mas_ref\u001b[0m\u001b[1;33m\u001b[0m\u001b[0m\n\u001b[1;32m--> 176\u001b[1;33m   \u001b[1;32mreturn\u001b[0m \u001b[0mconstant\u001b[0m\u001b[1;33m(\u001b[0m\u001b[0mv\u001b[0m\u001b[1;33m,\u001b[0m \u001b[0mdtype\u001b[0m\u001b[1;33m=\u001b[0m\u001b[0mdtype\u001b[0m\u001b[1;33m,\u001b[0m \u001b[0mname\u001b[0m\u001b[1;33m=\u001b[0m\u001b[0mname\u001b[0m\u001b[1;33m)\u001b[0m\u001b[1;33m\u001b[0m\u001b[0m\n\u001b[0m\u001b[0;32m    177\u001b[0m \u001b[1;33m\u001b[0m\u001b[0m\n\u001b[0;32m    178\u001b[0m \u001b[1;33m\u001b[0m\u001b[0m\n",
      "\u001b[1;32mc:\\program files\\python35\\lib\\site-packages\\tensorflow\\python\\framework\\constant_op.py\u001b[0m in \u001b[0;36mconstant\u001b[1;34m(value, dtype, shape, name, verify_shape)\u001b[0m\n\u001b[0;32m    163\u001b[0m   \u001b[0mtensor_value\u001b[0m \u001b[1;33m=\u001b[0m \u001b[0mattr_value_pb2\u001b[0m\u001b[1;33m.\u001b[0m\u001b[0mAttrValue\u001b[0m\u001b[1;33m(\u001b[0m\u001b[1;33m)\u001b[0m\u001b[1;33m\u001b[0m\u001b[0m\n\u001b[0;32m    164\u001b[0m   tensor_value.tensor.CopyFrom(\n\u001b[1;32m--> 165\u001b[1;33m       tensor_util.make_tensor_proto(value, dtype=dtype, shape=shape, verify_shape=verify_shape))\n\u001b[0m\u001b[0;32m    166\u001b[0m   \u001b[0mdtype_value\u001b[0m \u001b[1;33m=\u001b[0m \u001b[0mattr_value_pb2\u001b[0m\u001b[1;33m.\u001b[0m\u001b[0mAttrValue\u001b[0m\u001b[1;33m(\u001b[0m\u001b[0mtype\u001b[0m\u001b[1;33m=\u001b[0m\u001b[0mtensor_value\u001b[0m\u001b[1;33m.\u001b[0m\u001b[0mtensor\u001b[0m\u001b[1;33m.\u001b[0m\u001b[0mdtype\u001b[0m\u001b[1;33m)\u001b[0m\u001b[1;33m\u001b[0m\u001b[0m\n\u001b[0;32m    167\u001b[0m   const_tensor = g.create_op(\n",
      "\u001b[1;32mc:\\program files\\python35\\lib\\site-packages\\tensorflow\\python\\framework\\tensor_util.py\u001b[0m in \u001b[0;36mmake_tensor_proto\u001b[1;34m(values, dtype, shape, verify_shape)\u001b[0m\n\u001b[0;32m    365\u001b[0m       \u001b[0mnparray\u001b[0m \u001b[1;33m=\u001b[0m \u001b[0mnp\u001b[0m\u001b[1;33m.\u001b[0m\u001b[0mempty\u001b[0m\u001b[1;33m(\u001b[0m\u001b[0mshape\u001b[0m\u001b[1;33m,\u001b[0m \u001b[0mdtype\u001b[0m\u001b[1;33m=\u001b[0m\u001b[0mnp_dt\u001b[0m\u001b[1;33m)\u001b[0m\u001b[1;33m\u001b[0m\u001b[0m\n\u001b[0;32m    366\u001b[0m     \u001b[1;32melse\u001b[0m\u001b[1;33m:\u001b[0m\u001b[1;33m\u001b[0m\u001b[0m\n\u001b[1;32m--> 367\u001b[1;33m       \u001b[0m_AssertCompatible\u001b[0m\u001b[1;33m(\u001b[0m\u001b[0mvalues\u001b[0m\u001b[1;33m,\u001b[0m \u001b[0mdtype\u001b[0m\u001b[1;33m)\u001b[0m\u001b[1;33m\u001b[0m\u001b[0m\n\u001b[0m\u001b[0;32m    368\u001b[0m       \u001b[0mnparray\u001b[0m \u001b[1;33m=\u001b[0m \u001b[0mnp\u001b[0m\u001b[1;33m.\u001b[0m\u001b[0marray\u001b[0m\u001b[1;33m(\u001b[0m\u001b[0mvalues\u001b[0m\u001b[1;33m,\u001b[0m \u001b[0mdtype\u001b[0m\u001b[1;33m=\u001b[0m\u001b[0mnp_dt\u001b[0m\u001b[1;33m)\u001b[0m\u001b[1;33m\u001b[0m\u001b[0m\n\u001b[0;32m    369\u001b[0m       \u001b[1;31m# check to them.\u001b[0m\u001b[1;33m\u001b[0m\u001b[1;33m\u001b[0m\u001b[0m\n",
      "\u001b[1;32mc:\\program files\\python35\\lib\\site-packages\\tensorflow\\python\\framework\\tensor_util.py\u001b[0m in \u001b[0;36m_AssertCompatible\u001b[1;34m(values, dtype)\u001b[0m\n\u001b[0;32m    300\u001b[0m     \u001b[1;32melse\u001b[0m\u001b[1;33m:\u001b[0m\u001b[1;33m\u001b[0m\u001b[0m\n\u001b[0;32m    301\u001b[0m       raise TypeError(\"Expected %s, got %s of type '%s' instead.\" %\n\u001b[1;32m--> 302\u001b[1;33m                       (dtype.name, repr(mismatch), type(mismatch).__name__))\n\u001b[0m\u001b[0;32m    303\u001b[0m \u001b[1;33m\u001b[0m\u001b[0m\n\u001b[0;32m    304\u001b[0m \u001b[1;33m\u001b[0m\u001b[0m\n",
      "\u001b[1;31mTypeError\u001b[0m: Expected int32, got list containing Tensors of type '_Message' instead."
     ]
    }
   ],
   "source": [
    "batch_size = 128\n",
    "patch_size = 5\n",
    "depth = 16\n",
    "num_hidden = 64\n",
    "\n",
    "graph = tf.Graph()\n",
    "\n",
    "with graph.as_default():\n",
    "\n",
    "  # Input data.\n",
    "  with tf.name_scope(\"data\"):\n",
    "    with tf.name_scope(\"train\"):\n",
    "      tf_train_dataset = tf.placeholder(\n",
    "        tf.float32, shape=(batch_size, image_size, image_size, num_channels))\n",
    "      tf_train_labels = tf.placeholder(tf.float32, shape=(batch_size, num_labels))\n",
    "    with tf.name_scope(\"valid\"):\n",
    "      tf_valid_dataset = tf.constant(valid_dataset)\n",
    "    with tf.name_scope(\"test\"):\n",
    "      tf_test_dataset = tf.constant(test_dataset)\n",
    "  \n",
    "  # Variables.\n",
    "  with tf.name_scope(\"Weights/Biases\"):\n",
    "    var1 = inception_variables(num_channels, num_hidden, 1)\n",
    "    w = tf.Variable(tf.truncated_normal(\n",
    "            [batch_size, patch_size, num_channels, depth], stddev=0.1)) # Todo: proper size\n",
    "    b = tf.Variable(tf.zeros([depth]))\n",
    "  \n",
    "  # Model.\n",
    "  def model(data):\n",
    "    out1, _ = inception(data, var1, name=\"inception1\")\n",
    "    out2 = tf.relu(tf.matmul(out1,w1)+b1) # Todo, single layer\n",
    "    return out1\n",
    "\n",
    "  # Training computation.\n",
    "  logits = model(tf_train_dataset)\n",
    "  loss = tf.reduce_mean(\n",
    "    tf.nn.softmax_cross_entropy_with_logits(logits=logits, labels=tf_train_labels))\n",
    "    \n",
    "  # Optimizer.\n",
    "  optimizer = tf.train.GradientDescentOptimizer(0.05).minimize(loss)\n",
    "  \n",
    "  # Predictions for the training, validation, and test data.\n",
    "  train_prediction = tf.nn.softmax(logits)\n",
    "  valid_prediction = tf.nn.softmax(model(tf_valid_dataset))\n",
    "  test_prediction = tf.nn.softmax(model(tf_test_dataset))"
   ]
  },
  {
   "cell_type": "markdown",
   "metadata": {
    "deletable": true,
    "editable": true
   },
   "source": [
    "## Problem 3\n",
    "Get Tensorboard Images working and get inverse pooling working."
   ]
  },
  {
   "cell_type": "code",
   "execution_count": null,
   "metadata": {
    "collapsed": true,
    "deletable": true,
    "editable": true
   },
   "outputs": [],
   "source": []
  }
 ],
 "metadata": {
  "colab": {
   "default_view": {},
   "name": "4_convolutions.ipynb",
   "provenance": [],
   "version": "0.3.2",
   "views": {}
  },
  "kernelspec": {
   "display_name": "Python 3",
   "language": "python",
   "name": "python3"
  },
  "language_info": {
   "codemirror_mode": {
    "name": "ipython",
    "version": 3
   },
   "file_extension": ".py",
   "mimetype": "text/x-python",
   "name": "python",
   "nbconvert_exporter": "python",
   "pygments_lexer": "ipython3",
   "version": "3.5.2"
  }
 },
 "nbformat": 4,
 "nbformat_minor": 1
}
