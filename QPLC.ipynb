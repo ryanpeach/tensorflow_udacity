{
 "cells": [
  {
   "cell_type": "markdown",
   "metadata": {},
   "source": [
    "# Global"
   ]
  },
  {
   "cell_type": "code",
   "execution_count": 1,
   "metadata": {
    "collapsed": true
   },
   "outputs": [],
   "source": [
    "from collections import deque, defaultdict\n",
    "from functools import partial\n",
    "from math import ceil, floor\n",
    "import numpy as np"
   ]
  },
  {
   "cell_type": "markdown",
   "metadata": {},
   "source": [
    "## Memory"
   ]
  },
  {
   "cell_type": "code",
   "execution_count": 2,
   "metadata": {
    "collapsed": true
   },
   "outputs": [],
   "source": [
    "class RollingMemory(object):\n",
    "    \"\"\" A class used for memory which pops its oldest element after\n",
    "        reaching a certain size \"\"\"\n",
    "    def __init__(self, size, keys):\n",
    "        self.keys = keys\n",
    "        self.Mem = dict([(k, deque([], maxlen=size)) for k in keys])\n",
    "        self.MAX = int(size)\n",
    "        self.L = 0\n",
    "        \n",
    "    def __getitem__(self, i):\n",
    "        \"\"\" Returns the ith value for each key \"\"\"\n",
    "        if isinstance(i, slice):\n",
    "            return [self[j] for j in range(*i.indices(self.L))]\n",
    "        if isinstance(i, (list, tuple)):\n",
    "            return [self[j] for j in i]\n",
    "        out = {}\n",
    "        for k, v in self.Mem.items():\n",
    "            out[k] = v[i]\n",
    "        return out\n",
    "    \n",
    "    def get_key(self, k):\n",
    "        return list(self.Mem[k])\n",
    "    \n",
    "    def is_full(self):\n",
    "        return len(self) == self.MAX\n",
    "    def _pop_if_full(self):\n",
    "        \"\"\" Pops the last item from every key if full and returns. \"\"\"\n",
    "        if self.is_full():\n",
    "            for k in self.Mem:\n",
    "                out = self.Mem[k].popleft()\n",
    "            self.L -= 1\n",
    "        else:\n",
    "            out = None\n",
    "        return out\n",
    "    \n",
    "    def add(self, d):\n",
    "        if set(d.keys()) != set(self.Mem.keys()):\n",
    "            raise KeyError(\"All keys must be the same.\")\n",
    "        out = self._pop_if_full()\n",
    "        for k, v in d.items():\n",
    "            self.Mem[k].append(v)\n",
    "        self.L += 1\n",
    "        return out\n",
    "        \n",
    "    def copy(self):\n",
    "        return deepcopy(self.Mem)\n",
    "        \n",
    "    def __iter__(self):\n",
    "        return iter((self[i] for i in range(self.L)))\n",
    "    \n",
    "    def __len__(self):\n",
    "        return self.L\n",
    "    \n",
    "    def __repr__(self):\n",
    "        return str(dict([(k, self.get_key(k)) for k in self.Mem]))"
   ]
  },
  {
   "cell_type": "markdown",
   "metadata": {},
   "source": [
    "### Test that rolling memory works"
   ]
  },
  {
   "cell_type": "code",
   "execution_count": 3,
   "metadata": {
    "collapsed": false
   },
   "outputs": [
    {
     "name": "stdout",
     "output_type": "stream",
     "text": [
      "{'a': [0], 'c': [0], 'b': [0]}  Full: False\n",
      "{'a': [0, 1], 'c': [0, 1], 'b': [0, 1]}  Full: False\n",
      "{'a': [0, 1, 2], 'c': [0, 1, 2], 'b': [0, 1, 2]}  Full: True\n",
      "{'a': [1, 2, 3], 'c': [1, 2, 3], 'b': [1, 2, 3]}  Full: True\n",
      "{'a': [2, 3, 4], 'c': [2, 3, 4], 'b': [2, 3, 4]}  Full: True\n",
      "{'a': 2, 'c': 2, 'b': 2}\n",
      "{'a': 3, 'c': 3, 'b': 3}\n",
      "{'a': 4, 'c': 4, 'b': 4}\n",
      "[{'a': 2, 'c': 2, 'b': 2}, {'a': 3, 'c': 3, 'b': 3}]\n",
      "[{'a': 2, 'c': 2, 'b': 2}, {'a': 3, 'c': 3, 'b': 3}, {'a': 4, 'c': 4, 'b': 4}]\n"
     ]
    }
   ],
   "source": [
    "test_mem = RollingMemory(3,['a','b','c'])\n",
    "# Test add and __repr__ and concequenty _pop_if_full\n",
    "for x in range(5):\n",
    "    test_mem.add({'a': x, 'b': x, 'c': x})\n",
    "    print(test_mem, \" Full: {}\".format(test_mem.is_full()))\n",
    "\n",
    "# Test __iter__ and concequenty __getitem__ and __len__\n",
    "for d in test_mem:\n",
    "    print(d)\n",
    "    \n",
    "print(test_mem[0:2]) # Test slice indexing\n",
    "print(test_mem[[0,1,2]]) # Test list indexing"
   ]
  },
  {
   "cell_type": "markdown",
   "metadata": {},
   "source": [
    "### Reformatting\n",
    "\n",
    "Rolling memory is in the format of a pandas dataframe, a dictionary containing labels relating lists. We need matrices for our network."
   ]
  },
  {
   "cell_type": "code",
   "execution_count": 4,
   "metadata": {
    "collapsed": false
   },
   "outputs": [
    {
     "name": "stdout",
     "output_type": "stream",
     "text": [
      "{'a': 1, 'c': 3, 'b': 2} [1, 2, 3] True\n"
     ]
    }
   ],
   "source": [
    "def dict_to_input(d):\n",
    "    return [d[k] for k in sorted(d.keys())]\n",
    "\n",
    "# Testing\n",
    "m0 = {'b': 2, 'a': 1, 'c': 3}\n",
    "t0 = dict_to_input(m0)\n",
    "print(m0, t0, t0 == [1,2,3]) "
   ]
  },
  {
   "cell_type": "markdown",
   "metadata": {},
   "source": [
    "### Types of Memory\n",
    "\n",
    "We are going to create three types of memory:\n",
    "1. Action memory will save time windows both before and after actions\n",
    "2. Reward memory will save time windows before and including rewards\n",
    "3. Time memory will save a rolling record of most recent states"
   ]
  },
  {
   "cell_type": "markdown",
   "metadata": {},
   "source": [
    "#### Create types of slices"
   ]
  },
  {
   "cell_type": "code",
   "execution_count": 5,
   "metadata": {
    "collapsed": false
   },
   "outputs": [
    {
     "name": "stdout",
     "output_type": "stream",
     "text": [
      "Causal Slice equals Window Size? True: 100\n",
      "Causal Slice max equals index? True: 100\n",
      "Center Slice equals Window Size? True: 100\n",
      "Center Slice middle equals index? True: 100\n"
     ]
    }
   ],
   "source": [
    "window_size = 100\n",
    "causal_slice = lambda index: list(range(index+1-window_size, index+1))\n",
    "center_slice = lambda index: list(range(index-floor(window_size/2.), index+ceil(window_size/2.)))\n",
    "\n",
    "# Testing\n",
    "test_index = 100\n",
    "m0 = causal_slice(test_index)\n",
    "print(\"Causal Slice equals Window Size? {}: {}\".format(len(m0) == window_size, len(m0)))\n",
    "print(\"Causal Slice max equals index? {}: {}\".format(max(m0) == test_index, max(m0)))\n",
    "\n",
    "m1 = center_slice(test_index)\n",
    "print(\"Center Slice equals Window Size? {}: {}\".format(len(m1) == window_size, len(m1)))\n",
    "print(\"Center Slice middle equals index? {}: {}\".format(m1[len(m1)//2] == test_index, m1[len(m1)//2]))"
   ]
  },
  {
   "cell_type": "markdown",
   "metadata": {},
   "source": [
    "#### Initialize Memory"
   ]
  },
  {
   "cell_type": "code",
   "execution_count": 6,
   "metadata": {
    "collapsed": false
   },
   "outputs": [
    {
     "ename": "TypeError",
     "evalue": "__init__() missing 1 required positional argument: 'keys'",
     "output_type": "error",
     "traceback": [
      "\u001b[0;31m---------------------------------------------------------------------------\u001b[0m",
      "\u001b[0;31mTypeError\u001b[0m                                 Traceback (most recent call last)",
      "\u001b[0;32m<ipython-input-6-fb67f8500594>\u001b[0m in \u001b[0;36m<module>\u001b[0;34m()\u001b[0m\n\u001b[0;32m----> 1\u001b[0;31m \u001b[0maction_mem\u001b[0m \u001b[0;34m=\u001b[0m \u001b[0mRollingMemory\u001b[0m\u001b[0;34m(\u001b[0m\u001b[0;36m200\u001b[0m\u001b[0;34m)\u001b[0m\u001b[0;34m\u001b[0m\u001b[0m\n\u001b[0m\u001b[1;32m      2\u001b[0m \u001b[0mreward_mem\u001b[0m \u001b[0;34m=\u001b[0m \u001b[0mRollingMemory\u001b[0m\u001b[0;34m(\u001b[0m\u001b[0;36m200\u001b[0m\u001b[0;34m)\u001b[0m\u001b[0;34m\u001b[0m\u001b[0m\n\u001b[1;32m      3\u001b[0m \u001b[0mtime_mem\u001b[0m   \u001b[0;34m=\u001b[0m \u001b[0mRollingMemory\u001b[0m\u001b[0;34m(\u001b[0m\u001b[0;36m200\u001b[0m\u001b[0;34m)\u001b[0m\u001b[0;34m\u001b[0m\u001b[0m\n",
      "\u001b[0;31mTypeError\u001b[0m: __init__() missing 1 required positional argument: 'keys'"
     ]
    }
   ],
   "source": [
    "action_mem = RollingMemory(200)\n",
    "reward_mem = RollingMemory(200)\n",
    "time_mem   = RollingMemory(200)"
   ]
  },
  {
   "cell_type": "markdown",
   "metadata": {},
   "source": [
    "## Simulation Environment\n",
    "\n",
    "Create a conveyor"
   ]
  },
  {
   "cell_type": "code",
   "execution_count": 7,
   "metadata": {
    "collapsed": false
   },
   "outputs": [],
   "source": [
    "class Conveyor(object):\n",
    "    _alarm_period = 100\n",
    "    _dehome_period = 10\n",
    "    _num_pieces = 4\n",
    "    _home_wait = 6\n",
    "    def __init__(self):\n",
    "        self.T, self.Production = 0, 0\n",
    "        self.begin_running, alarm_triggered, time_step = True, False, False\n",
    "        self.pressence = [False for i in range(self._num_pieces)]\n",
    "        self.alarm, self.auto, self.cv_on, self.pusher_home = False, False, True, True\n",
    "        self.pusher_home_at = None\n",
    "        self._reset_action()\n",
    "        self._last_running, self._last_alarm = False, False\n",
    "    def _auto_ok(self):\n",
    "        return self.pusher_home and self.cv_on and not self.alarm\n",
    "    def _shift_right(self):\n",
    "        self.pressence = [False] + self.pressence[0:-1]\n",
    "        if self.auto:\n",
    "            self.Production += 1\n",
    "    def _drop(self):\n",
    "        \"\"\" Adds a part at beginning of cv, random missing piece. \"\"\"\n",
    "        if np.random.randint(0,self._alarm_period) == 0:\n",
    "            self.pressence[0] = False\n",
    "        else:\n",
    "            self.pressence[0] = True\n",
    "    def set_action(self, key):\n",
    "        self._reset_action()  # Only one action can be set per time\n",
    "        if key == 'HomePusher':\n",
    "            self.home_pusher = True\n",
    "        elif key == 'ChangeManual':\n",
    "            self.change_manual = True\n",
    "        elif key == 'ChangeAuto':\n",
    "            self.change_auto = True\n",
    "        elif key == 'CVActivate':\n",
    "            self.cv_activate = True\n",
    "        elif key == 'CVDeactivate':\n",
    "            self.cv_deactivate = True\n",
    "        elif key == 'ResetAlarm':\n",
    "            self.reset_alarm = True\n",
    "        elif key == 'Jog':\n",
    "            self.jog = True\n",
    "        elif key == 'Drop':\n",
    "            self.drop = True\n",
    "        elif key:\n",
    "            raise KeyError\n",
    "    def _reset_action(self):\n",
    "        self.home_pusher, self.change_manual, self.change_auto = False, False, False \n",
    "        self.cv_activate, self.cv_deactivate, self.reset_alarm = False, False, False\n",
    "        self.jog, self.drop = False, False\n",
    "    def get_state(self):\n",
    "        return {'Pressence0': self.pressence[0], 'Pressence1': self.pressence[1],\n",
    "                'Pressence2': self.pressence[2], 'Pressence3': self.pressence[3],\n",
    "                'Alarm': self.alarm, 'Auto': self.auto,\n",
    "                'CVOn': self.cv_on, 'PusherHome': self.pusher_home}\n",
    "    __repr__ = str(get_state)\n",
    "    def __next__(self):\n",
    "        self.T += 1 # Increment time\n",
    "        \n",
    "        # Remember past state\n",
    "        self._last_running = self.auto\n",
    "        self._last_alarm = self.alarm\n",
    "        \n",
    "        # Handle auto switching\n",
    "        if self.change_auto and self._auto_ok(): self.auto = True\n",
    "        if self.change_manual: self.auto = False\n",
    "        if not self._auto_ok(): self.auto = False\n",
    "        \n",
    "        # Handle auto operation\n",
    "        if self.auto:\n",
    "            self._shift_right()  # Shift pressence sensors right\n",
    "            \n",
    "            # A piece is added at the beggining of each pitch\n",
    "            self._drop()\n",
    "        \n",
    "            # Alarm triggers if there is no piece at the end of the conveyor\n",
    "            if not self.pressence[self._num_pieces-1]:\n",
    "                self.alarm = True\n",
    "        \n",
    "        # Handle Manual operation\n",
    "        else:\n",
    "            # Chance to randomly dehome pusher each cycle\n",
    "            if np.random.randint(0,self._dehome_period) == 0:\n",
    "                self.pusher_home = False\n",
    "          \n",
    "            # Home pusher\n",
    "            if self.home_pusher: self.pusher_home_at = self.T + self._home_wait\n",
    "            \n",
    "            # CV Activate / Deactivate\n",
    "            if self.cv_activate: self.cv_on = True\n",
    "            if self.cv_deactivate: self.cv_on = False\n",
    "                            \n",
    "            # Handle jog and drop\n",
    "            if self.jog: self._shift_right()\n",
    "            if self.drop: self._drop()\n",
    "                \n",
    "        # Reset alarm on press\n",
    "        if self.reset_alarm: self.alarm = False\n",
    "                \n",
    "        # Check pusher done homing\n",
    "        if self.pusher_home_at == self.T: self.pusher_home = True\n",
    "        \n",
    "        # Reset buttons at the end\n",
    "        self._reset_action()\n",
    "        \n",
    "        # Return state\n",
    "        return self.get_state()\n",
    "    \n",
    "    def began_running(self):\n",
    "        return (not self._last_running) and self.auto\n",
    "    def alarm_triggered(self):\n",
    "        return (not self._last_alarm) and self.alarm\n",
    "    "
   ]
  },
  {
   "cell_type": "markdown",
   "metadata": {},
   "source": [
    "### Expand to include reward, action, and state getters and setters specific to this test environment"
   ]
  },
  {
   "cell_type": "markdown",
   "metadata": {},
   "source": [
    "### Testing"
   ]
  },
  {
   "cell_type": "code",
   "execution_count": 8,
   "metadata": {
    "collapsed": true
   },
   "outputs": [],
   "source": [
    "calc_reward_values = lambda reward_bits: {'began_running':   int(reward_bits['began_running'])    * 1.,\n",
    "                                          'alarm_triggered': int(reward_bits['alarm_triggered'])  * -1.,\n",
    "                                          'running':       int(reward_bits['running'])            * 0.01,\n",
    "                                          'not_running':   int(reward_bits['not_running'])        * -0.01}\n",
    "Actions = [None, 'HomePusher', 'ChangeManual', 'ChangeAuto',\n",
    "           'CVActivate', 'CVDeactivate', 'ResetAlarm', 'Jog', 'Drop']\n",
    "       \n",
    "class MLConveyor(Conveyor):\n",
    "    get_reward_bits    = lambda self: {'began_running': self.began_running(),\n",
    "                                       'alarm_triggered': self.alarm_triggered(), \n",
    "                                       'running': self.auto,\n",
    "                                       'not_running': not self.auto}\n",
    "\n",
    "    get_next_state = lambda self: next(self)\n",
    "    set_action_bit = lambda self, a: self.set_action(Actions[a])\n",
    "   \n",
    "    time_memory = []\n",
    "    def save(self, t, a, s, r):\n",
    "        self.time_memory.append((t,a,s,r))\n",
    "    \n",
    "    def run_once(self, a0 = None):\n",
    "        \"\"\" Runs and returns the previous state + action + reward.\"\"\"\n",
    "        t = self.T\n",
    "        s0  = self.get_state()\n",
    "        a0  = Actions.index(a0) # Assume a0 is the name, not index of the action from Actions\n",
    "        self.set_action_bit(a0) \n",
    "        s1  = self.get_next_state()\n",
    "        r0  = self.get_reward_bits()\n",
    "        rv0 = calc_reward_values(r0)\n",
    "        self.save(t, s0, a0, sum(rv0.values()))\n",
    "        return t, s0, a0, rv0"
   ]
  },
  {
   "cell_type": "code",
   "execution_count": null,
   "metadata": {
    "collapsed": false
   },
   "outputs": [],
   "source": [
    "CV = MLConveyor()\n",
    "\n",
    "PRINT = False\n",
    "def print_state(t, s, a, r):\n",
    "    if PRINT: \n",
    "        print(\"State{}: {}\".format(t, (sorted(list(s.items())))))\n",
    "        print(\"Action{}: {}\".format(t, Actions[a]))\n",
    "        print(\"Reward{}: {}\\n\".format(t, r))\n",
    "\n",
    "def run_wait():\n",
    "    # Run until an alarm\n",
    "    if not CV.alarm:\n",
    "        while not CV.alarm:\n",
    "            t0, s0, a0, r0 = CV.run_once()\n",
    "\n",
    "        if PRINT: print(\"---- ALARM!!! ----\")\n",
    "        if PRINT: print(\"Previous State:\")\n",
    "        print_state(t0,s0,a0,r0)\n",
    "        if PRINT: print(\"Current State:\")\n",
    "        print_state(*CV.run_once(None)) # You must be one step ahead to get the action and reward\n",
    "\n",
    "def handle_startup():\n",
    "    while not all(CV.pressence):\n",
    "        for a in [\"Jog\", \"Drop\"]:\n",
    "            CV.run_once(a)\n",
    "    for a in [\"ResetAlarm\",\"ChangeAuto\", None]:\n",
    "        print_state(*CV.run_once(a))\n",
    "    if CV.auto and PRINT:\n",
    "        print(\"------- RUNNING ----------\\n\")\n",
    "    \n",
    "def handle_homing():\n",
    "    print_state(*CV.run_once(\"HomePusher\"))\n",
    "    for i in range(CV._home_wait):\n",
    "        CV.run_once()\n",
    "    for a in [\"ResetAlarm\",\"ChangeAuto\", None]:\n",
    "        print_state(*CV.run_once(a))\n",
    "        \n",
    "def catch_error():\n",
    "    if not CV.pusher_home:\n",
    "        print(\"Pusher not home.\\n\")\n",
    "        handle_homing()\n",
    "        handle_startup()\n",
    "    elif not CV.pressence[-1]:\n",
    "        if PRINT: print(\"Part Missing\\n\")\n",
    "        handle_startup()\n",
    "    else:\n",
    "        if PRINT: print(\"Other Alarm\")\n",
    "        print_state(*CV.run_once())\n",
    "        raise Exception\n",
    "\n",
    "# Get 1000 iterations\n",
    "while CV.T < 1000:\n",
    "    handle_startup()\n",
    "    run_wait()\n",
    "    catch_error()\n",
    "\n",
    "print(\"Done!\")\n",
    "print(\"Last Item: {}\".format(CV.time_memory[-1]))\n",
    "print(\"Time: {}, Production: {}, Difference: {}\".format(CV.T, CV.Production, np.abs(CV.T-CV.Production)))"
   ]
  },
  {
   "cell_type": "markdown",
   "metadata": {},
   "source": [
    "# Q Learning\n",
    "\n",
    "Q(state, action) = R(state, action) + max([Q(next_state(state, action), a) for a in A])\n",
    "\n",
    "1. next_state(state, action): Prediction Network & Memory\n",
    "2. R(state, action): G(next_state(state), action) - G(state)"
   ]
  },
  {
   "cell_type": "code",
   "execution_count": null,
   "metadata": {
    "collapsed": false
   },
   "outputs": [],
   "source": [
    "c = .5\n",
    "Z = c**(window_size-np.arange(window_size))\n",
    "print(Z)"
   ]
  },
  {
   "cell_type": "code",
   "execution_count": null,
   "metadata": {
    "collapsed": false
   },
   "outputs": [],
   "source": [
    "R = np.array([x[3] for x in CV.time_memory])\n",
    "print(R)"
   ]
  },
  {
   "cell_type": "code",
   "execution_count": null,
   "metadata": {
    "collapsed": true
   },
   "outputs": [],
   "source": [
    "def apply_Z(t):\n",
    "    x0, x1 = t-window_size, t+1"
   ]
  },
  {
   "cell_type": "code",
   "execution_count": null,
   "metadata": {
    "collapsed": true
   },
   "outputs": [],
   "source": []
  }
 ],
 "metadata": {
  "kernelspec": {
   "display_name": "Python 3",
   "language": "python",
   "name": "python3"
  },
  "language_info": {
   "codemirror_mode": {
    "name": "ipython",
    "version": 3
   },
   "file_extension": ".py",
   "mimetype": "text/x-python",
   "name": "python",
   "nbconvert_exporter": "python",
   "pygments_lexer": "ipython3",
   "version": "3.4.3"
  }
 },
 "nbformat": 4,
 "nbformat_minor": 1
}
