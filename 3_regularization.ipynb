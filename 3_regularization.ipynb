{
 "cells": [
  {
   "cell_type": "markdown",
   "metadata": {
    "colab_type": "text",
    "id": "kR-4eNdK6lYS"
   },
   "source": [
    "Deep Learning\n",
    "=============\n",
    "\n",
    "Assignment 3\n",
    "------------\n",
    "\n",
    "Previously in `2_fullyconnected.ipynb`, you trained a logistic regression and a neural network model.\n",
    "\n",
    "The goal of this assignment is to explore regularization techniques."
   ]
  },
  {
   "cell_type": "code",
   "execution_count": 1,
   "metadata": {
    "cellView": "both",
    "colab": {
     "autoexec": {
      "startup": false,
      "wait_interval": 0
     }
    },
    "colab_type": "code",
    "collapsed": true,
    "id": "JLpLa8Jt7Vu4"
   },
   "outputs": [],
   "source": [
    "# These are all the modules we'll be using later. Make sure you can import them\n",
    "# before proceeding further.\n",
    "from __future__ import print_function\n",
    "import numpy as np\n",
    "import tensorflow as tf\n",
    "from six.moves import cPickle as pickle"
   ]
  },
  {
   "cell_type": "markdown",
   "metadata": {
    "colab_type": "text",
    "id": "1HrCK6e17WzV"
   },
   "source": [
    "First reload the data we generated in _notmist.ipynb_."
   ]
  },
  {
   "cell_type": "code",
   "execution_count": 2,
   "metadata": {
    "cellView": "both",
    "colab": {
     "autoexec": {
      "startup": false,
      "wait_interval": 0
     },
     "output_extras": [
      {
       "item_id": 1
      }
     ]
    },
    "colab_type": "code",
    "executionInfo": {
     "elapsed": 11777,
     "status": "ok",
     "timestamp": 1449849322348,
     "user": {
      "color": "",
      "displayName": "",
      "isAnonymous": false,
      "isMe": true,
      "permissionId": "",
      "photoUrl": "",
      "sessionId": "0",
      "userId": ""
     },
     "user_tz": 480
    },
    "id": "y3-cj1bpmuxc",
    "outputId": "e03576f1-ebbe-4838-c388-f1777bcc9873"
   },
   "outputs": [
    {
     "name": "stdout",
     "output_type": "stream",
     "text": [
      "Training set (32000, 28, 28) (32000,)\n",
      "Validation set (10000, 28, 28) (10000,)\n",
      "Test set (10000, 28, 28) (10000,)\n"
     ]
    }
   ],
   "source": [
    "pickle_file = 'notMNIST.pickle'\n",
    "\n",
    "with open(pickle_file, 'rb') as f:\n",
    "  save = pickle.load(f)\n",
    "  train_dataset = save['train_dataset']\n",
    "  train_labels = save['train_labels']\n",
    "  valid_dataset = save['valid_dataset']\n",
    "  valid_labels = save['valid_labels']\n",
    "  test_dataset = save['test_dataset']\n",
    "  test_labels = save['test_labels']\n",
    "  del save  # hint to help gc free up memory\n",
    "  print('Training set', train_dataset.shape, train_labels.shape)\n",
    "  print('Validation set', valid_dataset.shape, valid_labels.shape)\n",
    "  print('Test set', test_dataset.shape, test_labels.shape)"
   ]
  },
  {
   "cell_type": "markdown",
   "metadata": {
    "colab_type": "text",
    "id": "L7aHrm6nGDMB"
   },
   "source": [
    "Reformat into a shape that's more adapted to the models we're going to train:\n",
    "- data as a flat matrix,\n",
    "- labels as float 1-hot encodings."
   ]
  },
  {
   "cell_type": "code",
   "execution_count": 3,
   "metadata": {
    "cellView": "both",
    "colab": {
     "autoexec": {
      "startup": false,
      "wait_interval": 0
     },
     "output_extras": [
      {
       "item_id": 1
      }
     ]
    },
    "colab_type": "code",
    "executionInfo": {
     "elapsed": 11728,
     "status": "ok",
     "timestamp": 1449849322356,
     "user": {
      "color": "",
      "displayName": "",
      "isAnonymous": false,
      "isMe": true,
      "permissionId": "",
      "photoUrl": "",
      "sessionId": "0",
      "userId": ""
     },
     "user_tz": 480
    },
    "id": "IRSyYiIIGIzS",
    "outputId": "3f8996ee-3574-4f44-c953-5c8a04636582"
   },
   "outputs": [
    {
     "name": "stdout",
     "output_type": "stream",
     "text": [
      "Training set (32000, 784) (32000, 10)\n",
      "Validation set (10000, 784) (10000, 10)\n",
      "Test set (10000, 784) (10000, 10)\n"
     ]
    }
   ],
   "source": [
    "image_size = 28\n",
    "num_labels = 10\n",
    "\n",
    "def reformat(dataset, labels):\n",
    "  dataset = dataset.reshape((-1, image_size * image_size)).astype(np.float32)\n",
    "  # Map 1 to [0.0, 1.0, 0.0 ...], 2 to [0.0, 0.0, 1.0 ...]\n",
    "  labels = (np.arange(num_labels) == labels[:,None]).astype(np.float32)\n",
    "  return dataset, labels\n",
    "train_dataset, train_labels = reformat(train_dataset, train_labels)\n",
    "valid_dataset, valid_labels = reformat(valid_dataset, valid_labels)\n",
    "test_dataset, test_labels = reformat(test_dataset, test_labels)\n",
    "print('Training set', train_dataset.shape, train_labels.shape)\n",
    "print('Validation set', valid_dataset.shape, valid_labels.shape)\n",
    "print('Test set', test_dataset.shape, test_labels.shape)"
   ]
  },
  {
   "cell_type": "code",
   "execution_count": 4,
   "metadata": {
    "cellView": "both",
    "colab": {
     "autoexec": {
      "startup": false,
      "wait_interval": 0
     }
    },
    "colab_type": "code",
    "collapsed": true,
    "id": "RajPLaL_ZW6w"
   },
   "outputs": [],
   "source": [
    "def accuracy(predictions, labels):\n",
    "  return (100.0 * np.sum(np.argmax(predictions, 1) == np.argmax(labels, 1))\n",
    "          / predictions.shape[0])"
   ]
  },
  {
   "cell_type": "markdown",
   "metadata": {
    "colab_type": "text",
    "id": "sgLbUAQ1CW-1"
   },
   "source": [
    "---\n",
    "Problem 1\n",
    "---------\n",
    "\n",
    "Introduce and tune L2 regularization for both logistic and neural network models. Remember that L2 amounts to adding a penalty on the norm of the weights to the loss. In TensorFlow, you can compute the L2 loss for a tensor `t` using `nn.l2_loss(t)`. The right amount of regularization should improve your validation / test accuracy.\n",
    "\n",
    "---"
   ]
  },
  {
   "cell_type": "markdown",
   "metadata": {},
   "source": [
    "Bringing a few things in from the fullyconnected project."
   ]
  },
  {
   "cell_type": "code",
   "execution_count": 7,
   "metadata": {
    "collapsed": true
   },
   "outputs": [],
   "source": [
    "# REF: https://www.tensorflow.org/get_started/summaries_and_tensorboard\n",
    "def variable_summaries(var):\n",
    "  \"\"\"Attach a lot of summaries to a Tensor (for TensorBoard visualization).\"\"\"\n",
    "  with tf.name_scope('summaries'):\n",
    "    mean = tf.reduce_mean(var)\n",
    "    tf.summary.scalar('mean', mean)\n",
    "    with tf.name_scope('stddev'):\n",
    "      stddev = tf.sqrt(tf.reduce_mean(tf.square(var - mean)))\n",
    "    tf.summary.scalar('stddev', stddev)\n",
    "    tf.summary.scalar('max', tf.reduce_max(var))\n",
    "    tf.summary.scalar('min', tf.reduce_min(var))\n",
    "    tf.summary.histogram('histogram', var)"
   ]
  },
  {
   "cell_type": "code",
   "execution_count": 32,
   "metadata": {
    "collapsed": true
   },
   "outputs": [],
   "source": [
    "def run_batch_graph(graph, save_layers, num_steps = 1001, summary_path = './summary/', earliest_stop = 300, stopping_threshold = 3, batch_size=128, report_learning_rate=False):\n",
    "    with tf.Session(graph=graph) as session:\n",
    "        # Merge all the summaries and write them out to /tmp/mnist_logs (by default)\n",
    "        merged_summary = tf.summary.merge_all()\n",
    "        train_writer = tf.summary.FileWriter(summary_path+'train', graph=graph)\n",
    "        test_writer = tf.summary.FileWriter(summary_path+'test')\n",
    "        tf.global_variables_initializer().run()\n",
    "        print('Initialized')\n",
    "\n",
    "        def get_feed_dict(step):\n",
    "            # Pick an offset within the training data, which has been randomized.\n",
    "            # Note: we could use better randomization across epochs.\n",
    "            offset = (step * batch_size) % (train_labels.shape[0] - batch_size)\n",
    "            # Generate a minibatch.\n",
    "            batch_data = train_dataset[offset:(offset + batch_size), :]\n",
    "            batch_labels = train_labels[offset:(offset + batch_size), :]\n",
    "            # Prepare a dictionary telling the session where to feed the minibatch.\n",
    "            # The key of the dictionary is the placeholder node of the graph to be fed,\n",
    "            # and the value is the numpy array to feed to it.\n",
    "            feed_dict = {tf_train_dataset : batch_data, tf_train_labels : batch_labels}\n",
    "            return feed_dict, (batch_data, batch_labels)\n",
    "\n",
    "        def test_step(step):\n",
    "            feed_dict, (batch_data, batch_labels) = get_feed_dict(step)\n",
    "            summary, test = session.run([merged_summary, test_prediction], feed_dict=feed_dict)\n",
    "            test_writer.add_summary(summary, step)\n",
    "            test = accuracy(test, test_labels)\n",
    "            print(\"Step {}: Test: {}%\".format(step, test))\n",
    "            return test\n",
    "\n",
    "        def train_step(step, verify=False):\n",
    "            feed_dict, (batch_data, batch_labels) = get_feed_dict(step)\n",
    "            if verify:\n",
    "                if not report_learning_rate:\n",
    "                    summary, _, train, valid = session.run([merged_summary, optimizer, train_prediction, valid_prediction], feed_dict=feed_dict)\n",
    "                    train_writer.add_summary(summary, step)\n",
    "                    train = accuracy(train, batch_labels)\n",
    "                    valid = accuracy(valid, valid_labels)\n",
    "                    print(\"Step {}: Train: {}% Valid: {}%\".format(step, train, valid))\n",
    "                    return train, valid\n",
    "                else:\n",
    "                    summary, _, train, valid, lr = session.run([merged_summary, optimizer, train_prediction, valid_prediction, learning_rate], feed_dict=feed_dict)\n",
    "                    train_writer.add_summary(summary, step)\n",
    "                    train = accuracy(train, batch_labels)\n",
    "                    valid = accuracy(valid, valid_labels)\n",
    "                    print(\"Step {}: Train: {}% Valid: {}% Lr: {}\".format(step, train, valid, lr))\n",
    "                    return train, valid\n",
    "            else:\n",
    "                summary, _ = session.run([merged_summary, optimizer], feed_dict=feed_dict)\n",
    "                train_writer.add_summary(summary, step)\n",
    "\n",
    "        # Early Stopping\n",
    "        saver = tf.train.Saver(save_layers)\n",
    "        \n",
    "        # Main Loop\n",
    "        try:\n",
    "            for step in range(num_steps):\n",
    "                # Run the computations. We tell .run() that we want to run the optimizer,\n",
    "                # and get the loss value and the training predictions returned as numpy\n",
    "                # arrays.\n",
    "                # Every 1000 steps, test the test accuracy without training\n",
    "                if (step == num_steps-1):\n",
    "                    test_step(step)\n",
    "\n",
    "                # Every 100 steps, test training and validation accuracy\n",
    "                elif (step % (num_steps//10) == 0):\n",
    "                    saver.save(session, summary_path+\"train/single_layer{}.chk\".format(step))\n",
    "                    train, valid = train_step(step, verify=True)\n",
    "\n",
    "                    # Early Stopping\n",
    "                    if abs(train-valid)>stopping_threshold and step>earliest_stop and earliest_stop>=0:\n",
    "                        print(\"Stopping Early!\")\n",
    "                        test_step(step)\n",
    "                        break\n",
    "\n",
    "                # Normal, fast, training step\n",
    "                else:\n",
    "                    train_step(step)\n",
    "        except KeyboardInterrupt:\n",
    "            print(\"Stopping Early!\")\n",
    "            test_step(step)"
   ]
  },
  {
   "cell_type": "markdown",
   "metadata": {},
   "source": [
    "Modifying as needed graph3 from the fully connected project."
   ]
  },
  {
   "cell_type": "code",
   "execution_count": 30,
   "metadata": {},
   "outputs": [],
   "source": [
    "batch_size = 128\n",
    "hidden_size = 1024\n",
    "start_learning_rate = .5\n",
    "w = .01  # The l2 loss rates for weights\n",
    "graph = tf.Graph()\n",
    "with graph.as_default():\n",
    "  tf.summary.scalar('image_size', image_size)\n",
    "  tf.summary.scalar('batch_size', batch_size)\n",
    "  tf.summary.scalar('num_labels', num_labels)\n",
    "  tf.summary.scalar('num_labels', hidden_size)\n",
    "  tf.summary.scalar('learning_rate', start_learning_rate)\n",
    "  tf.summary.scalar('w',w)\n",
    "  \n",
    "  # Input data. For the training data, we use a placeholder that will be fed\n",
    "  # at run time with a training minibatch.\n",
    "  with tf.name_scope('data'):\n",
    "    with tf.name_scope('train'):\n",
    "      tf_train_dataset = tf.placeholder(tf.float32,\n",
    "                                        shape=(batch_size, image_size * image_size))\n",
    "      tf_train_labels = tf.placeholder(tf.float32, shape=(batch_size, num_labels))\n",
    "    with tf.name_scope('valid'):\n",
    "      tf_valid_dataset = tf.constant(valid_dataset)\n",
    "    with tf.name_scope('test'):\n",
    "      tf_test_dataset = tf.constant(test_dataset)\n",
    "  \n",
    "  # Feed Forward Layer 1\n",
    "  with tf.name_scope('ff1'):\n",
    "    with tf.name_scope('weights'):\n",
    "        weights1 = tf.Variable(\n",
    "            tf.truncated_normal([image_size * image_size, hidden_size]))\n",
    "        variable_summaries(weights1)\n",
    "    with tf.name_scope('biases'):\n",
    "        biases1 = tf.Variable(tf.zeros([hidden_size]))\n",
    "        variable_summaries(biases1)\n",
    "    with tf.name_scope('linear'):\n",
    "        logits1 = tf.matmul(tf_train_dataset, weights1) + biases1\n",
    "        variable_summaries(logits1)\n",
    "    with tf.name_scope('activation'):\n",
    "        act1 = tf.nn.relu(logits1)\n",
    "        variable_summaries(act1)\n",
    "    \n",
    "  # Feed Forward Layer 1\n",
    "  with tf.name_scope('ff2'):\n",
    "    with tf.name_scope('weights'):\n",
    "        weights2 = tf.Variable(\n",
    "            tf.truncated_normal([hidden_size, num_labels]))\n",
    "        variable_summaries(weights2)\n",
    "    with tf.name_scope('biases'):\n",
    "        biases2 = tf.Variable(tf.zeros([num_labels]))\n",
    "        variable_summaries(biases2)\n",
    "    with tf.name_scope('linear'):\n",
    "        logits2 = tf.matmul(act1, weights2) + biases2\n",
    "        variable_summaries(logits2)\n",
    "  \n",
    "  with tf.name_scope('error'):\n",
    "    diff = tf.nn.softmax_cross_entropy_with_logits(logits=logits2, labels=tf_train_labels)\n",
    "    loss = tf.reduce_mean(diff + w*(tf.nn.l2_loss(weights1) + tf.nn.l2_loss(weights2)))\n",
    "    tf.summary.scalar('cross_entropy', loss)\n",
    "    \n",
    "  # Optimizer.\n",
    "  # We are going to find the minimum of this loss using gradient descent.\n",
    "  with tf.name_scope('opt'):\n",
    "    optimizer = tf.train.GradientDescentOptimizer(start_learning_rate).minimize(loss)\n",
    "  \n",
    "  # Predictions for the training, validation, and test data.\n",
    "  # These are not part of training, but merely here so that we can report\n",
    "  # accuracy figures as we train.\n",
    "  with tf.name_scope('out'):\n",
    "    train_prediction = tf.nn.softmax(logits2)\n",
    "    valid_prediction = tf.nn.softmax(tf.matmul(tf.nn.relu(tf.matmul(tf_valid_dataset, weights1) + biases1), weights2) + biases2)\n",
    "    test_prediction = tf.nn.softmax(tf.matmul(tf.nn.relu(tf.matmul(tf_test_dataset, weights1) + biases1), weights2) + biases2)"
   ]
  },
  {
   "cell_type": "code",
   "execution_count": 31,
   "metadata": {},
   "outputs": [
    {
     "name": "stdout",
     "output_type": "stream",
     "text": [
      "Initialized\n",
      "Step 0: Train: 8.59375% Valid: 17.3%\n",
      "Step 100: Train: 79.6875% Valid: 77.24%\n",
      "Step 200: Train: 79.6875% Valid: 79.83%\n",
      "Step 300: Train: 81.25% Valid: 81.95%\n",
      "Step 400: Train: 89.0625% Valid: 84.04%\n",
      "Step 500: Train: 84.375% Valid: 83.9%\n",
      "Step 600: Train: 82.8125% Valid: 83.48%\n",
      "Step 700: Train: 81.25% Valid: 83.06%\n",
      "Step 800: Train: 83.59375% Valid: 82.68%\n",
      "Step 900: Train: 85.15625% Valid: 82.79%\n",
      "Step 999: Test: 89.84%\n"
     ]
    }
   ],
   "source": [
    "run_batch_graph(graph, save_layers=[weights1, biases1, weights2, biases2], num_steps=1000, earliest_stop = -1, stopping_threshold = 10, batch_size=batch_size, summary_path=\"./summary/regularization/l2loss/\")"
   ]
  },
  {
   "cell_type": "markdown",
   "metadata": {
    "colab_type": "text",
    "id": "na8xX2yHZzNF"
   },
   "source": [
    "---\n",
    "Problem 2\n",
    "---------\n",
    "Let's demonstrate an extreme case of overfitting. Restrict your training data to just a few batches. What happens?\n",
    "\n",
    "---"
   ]
  },
  {
   "cell_type": "code",
   "execution_count": 39,
   "metadata": {
    "collapsed": true
   },
   "outputs": [],
   "source": [
    "# Save full dataset\n",
    "save_training = (train_dataset, train_labels)\n",
    "\n",
    "# Slice it to a smaller set\n",
    "train_dataset = train_dataset[:batch_size*3]\n",
    "train_labels  = train_labels[:batch_size*3]"
   ]
  },
  {
   "cell_type": "code",
   "execution_count": 33,
   "metadata": {},
   "outputs": [
    {
     "name": "stdout",
     "output_type": "stream",
     "text": [
      "Initialized\n",
      "Step 0: Train: 14.0625% Valid: 18.29%\n",
      "Step 100: Train: 100.0% Valid: 70.89%\n",
      "Step 200: Train: 100.0% Valid: 71.11%\n",
      "Step 300: Train: 100.0% Valid: 71.83%\n",
      "Step 400: Train: 100.0% Valid: 72.46%\n",
      "Step 500: Train: 100.0% Valid: 73.97%\n",
      "Step 600: Train: 100.0% Valid: 75.01%\n",
      "Step 700: Train: 100.0% Valid: 75.21%\n",
      "Step 800: Train: 100.0% Valid: 75.53%\n",
      "Step 900: Train: 100.0% Valid: 75.61%\n",
      "Step 999: Test: 83.82%\n"
     ]
    }
   ],
   "source": [
    "run_batch_graph(graph, save_layers=[weights1, biases1, weights2, biases2], num_steps=1000, earliest_stop = -1, stopping_threshold = 10, batch_size=batch_size, summary_path=\"./summary/regularization/fewbatch/\")"
   ]
  },
  {
   "cell_type": "markdown",
   "metadata": {
    "colab_type": "text",
    "id": "ww3SCBUdlkRc"
   },
   "source": [
    "---\n",
    "Problem 3\n",
    "---------\n",
    "Introduce Dropout on the hidden layer of the neural network. Remember: Dropout should only be introduced during training, not evaluation, otherwise your evaluation results would be stochastic as well. TensorFlow provides `nn.dropout()` for that, but you have to make sure it's only inserted during training.\n",
    "\n",
    "What happens to our extreme overfitting case?\n",
    "\n",
    "---"
   ]
  },
  {
   "cell_type": "code",
   "execution_count": 52,
   "metadata": {
    "collapsed": true
   },
   "outputs": [],
   "source": [
    "keep_prob = .20 # Tried several values, it needs to be this low surprisingly\n",
    "graph = tf.Graph()\n",
    "with graph.as_default():\n",
    "  tf.summary.scalar('image_size', image_size)\n",
    "  tf.summary.scalar('batch_size', batch_size)\n",
    "  tf.summary.scalar('num_labels', num_labels)\n",
    "  tf.summary.scalar('num_labels', hidden_size)\n",
    "  tf.summary.scalar('learning_rate', start_learning_rate)\n",
    "  tf.summary.scalar('w',w)\n",
    "  \n",
    "  # Input data. For the training data, we use a placeholder that will be fed\n",
    "  # at run time with a training minibatch.\n",
    "  with tf.name_scope('data'):\n",
    "    with tf.name_scope('train'):\n",
    "      tf_train_dataset = tf.placeholder(tf.float32,\n",
    "                                        shape=(batch_size, image_size * image_size))\n",
    "      tf_train_labels = tf.placeholder(tf.float32, shape=(batch_size, num_labels))\n",
    "    with tf.name_scope('valid'):\n",
    "      tf_valid_dataset = tf.constant(valid_dataset)\n",
    "    with tf.name_scope('test'):\n",
    "      tf_test_dataset = tf.constant(test_dataset)\n",
    "  \n",
    "  # Feed Forward Layer 1\n",
    "  with tf.name_scope('ff1'):\n",
    "    with tf.name_scope('weights'):\n",
    "        weights1 = tf.Variable(\n",
    "            tf.truncated_normal([image_size * image_size, hidden_size]))\n",
    "        variable_summaries(weights1)\n",
    "    with tf.name_scope('biases'):\n",
    "        biases1 = tf.Variable(tf.zeros([hidden_size]))\n",
    "        variable_summaries(biases1)\n",
    "    with tf.name_scope('linear'):\n",
    "        logits1 = tf.matmul(tf_train_dataset, weights1) + biases1\n",
    "        variable_summaries(logits1)\n",
    "    with tf.name_scope('activation'):\n",
    "        act1 = tf.nn.relu(logits1)\n",
    "        variable_summaries(act1)\n",
    "    with tf.name_scope('dropout'):\n",
    "        drop1 = tf.nn.dropout(act1, keep_prob=keep_prob)\n",
    "        variable_summaries(drop1)\n",
    "    \n",
    "  # Feed Forward Layer 1\n",
    "  with tf.name_scope('ff2'):\n",
    "    with tf.name_scope('weights'):\n",
    "        weights2 = tf.Variable(\n",
    "            tf.truncated_normal([hidden_size, num_labels]))\n",
    "        variable_summaries(weights2)\n",
    "    with tf.name_scope('biases'):\n",
    "        biases2 = tf.Variable(tf.zeros([num_labels]))\n",
    "        variable_summaries(biases2)\n",
    "    with tf.name_scope('linear'):\n",
    "        logits2 = tf.matmul(drop1, weights2) + biases2\n",
    "        variable_summaries(logits2)\n",
    "  \n",
    "  with tf.name_scope('error'):\n",
    "    diff = tf.nn.softmax_cross_entropy_with_logits(logits=logits2, labels=tf_train_labels)\n",
    "    loss = tf.reduce_mean(diff + w*(tf.nn.l2_loss(weights1) + tf.nn.l2_loss(weights2)))\n",
    "    tf.summary.scalar('cross_entropy', loss)\n",
    "    \n",
    "  # Optimizer.\n",
    "  # We are going to find the minimum of this loss using gradient descent.\n",
    "  with tf.name_scope('opt'):\n",
    "    optimizer = tf.train.GradientDescentOptimizer(start_learning_rate).minimize(loss)\n",
    "  \n",
    "  # Predictions for the training, validation, and test data.\n",
    "  # These are not part of training, but merely here so that we can report\n",
    "  # accuracy figures as we train.\n",
    "  with tf.name_scope('out'):\n",
    "    train_prediction = tf.nn.softmax(logits2)\n",
    "    valid_prediction = tf.nn.softmax(tf.matmul(tf.nn.relu(tf.matmul(tf_valid_dataset, weights1) + biases1), weights2) + biases2)\n",
    "    test_prediction = tf.nn.softmax(tf.matmul(tf.nn.relu(tf.matmul(tf_test_dataset, weights1) + biases1), weights2) + biases2)"
   ]
  },
  {
   "cell_type": "code",
   "execution_count": 53,
   "metadata": {},
   "outputs": [
    {
     "name": "stdout",
     "output_type": "stream",
     "text": [
      "Initialized\n",
      "Step 0: Train: 13.28125% Valid: 24.69%\n",
      "Step 100: Train: 96.875% Valid: 76.1%\n",
      "Step 200: Train: 93.75% Valid: 75.3%\n",
      "Step 300: Train: 99.21875% Valid: 76.08%\n",
      "Step 400: Train: 99.21875% Valid: 76.85%\n",
      "Step 500: Train: 100.0% Valid: 76.37%\n",
      "Step 600: Train: 100.0% Valid: 76.46%\n",
      "Step 700: Train: 100.0% Valid: 76.38%\n",
      "Step 800: Train: 100.0% Valid: 76.59%\n",
      "Step 900: Train: 100.0% Valid: 76.33%\n",
      "Step 999: Test: 84.31%\n"
     ]
    }
   ],
   "source": [
    "run_batch_graph(graph, save_layers=[weights1, biases1, weights2, biases2], num_steps=1000, earliest_stop = -1, stopping_threshold = 10, batch_size=batch_size, summary_path=\"./summary/regularization/dropout/\")"
   ]
  },
  {
   "cell_type": "markdown",
   "metadata": {},
   "source": [
    "Now lets restore the old data."
   ]
  },
  {
   "cell_type": "code",
   "execution_count": 54,
   "metadata": {},
   "outputs": [
    {
     "name": "stdout",
     "output_type": "stream",
     "text": [
      "Restored!\n"
     ]
    }
   ],
   "source": [
    "train_dataset, train_labels = save_training # Restore full dataset\n",
    "print(\"Restored!\")"
   ]
  },
  {
   "cell_type": "markdown",
   "metadata": {
    "colab_type": "text",
    "id": "-b1hTz3VWZjw"
   },
   "source": [
    "---\n",
    "Problem 4\n",
    "---------\n",
    "\n",
    "Try to get the best performance you can using a multi-layer model! The best reported test accuracy using a deep network is [97.1%](http://yaroslavvb.blogspot.com/2011/09/notmnist-dataset.html?showComment=1391023266211#c8758720086795711595).\n",
    "\n",
    "One avenue you can explore is to add multiple layers.\n",
    "\n",
    "Another one is to use learning rate decay:\n",
    "\n",
    "    global_step = tf.Variable(0)  # count the number of steps taken.\n",
    "    learning_rate = tf.train.exponential_decay(0.5, global_step, ...)\n",
    "    optimizer = tf.train.GradientDescentOptimizer(learning_rate).minimize(loss, global_step=global_step)\n",
    " \n",
    " ---\n"
   ]
  },
  {
   "cell_type": "code",
   "execution_count": 7,
   "metadata": {
    "collapsed": true
   },
   "outputs": [],
   "source": [
    "# REF: https://www.tensorflow.org/get_started/summaries_and_tensorboard\n",
    "def variable_summaries(var):\n",
    "  \"\"\"Attach a lot of summaries to a Tensor (for TensorBoard visualization).\"\"\"\n",
    "  with tf.name_scope('summaries'):\n",
    "    mean = tf.reduce_mean(var)\n",
    "    tf.summary.scalar('mean', mean)\n",
    "    with tf.name_scope('stddev'):\n",
    "      stddev = tf.sqrt(tf.reduce_mean(tf.square(var - mean)))\n",
    "    tf.summary.scalar('stddev', stddev)\n",
    "    tf.summary.scalar('max', tf.reduce_max(var))\n",
    "    tf.summary.scalar('min', tf.reduce_min(var))"
   ]
  },
  {
   "cell_type": "code",
   "execution_count": 45,
   "metadata": {
    "collapsed": true
   },
   "outputs": [],
   "source": [
    "def ff_layer(in_size, out_size, prev_layer, name):\n",
    "    with tf.name_scope(name):\n",
    "        with tf.name_scope('weights'):\n",
    "            weights = tf.Variable(\n",
    "                tf.truncated_normal([in_size, out_size],stddev=np.sqrt(2.0/in_size)))\n",
    "            variable_summaries(weights)\n",
    "        with tf.name_scope('biases'):\n",
    "            biases = tf.Variable(tf.zeros([out_size]))\n",
    "            variable_summaries(biases)\n",
    "        with tf.name_scope('linear'):\n",
    "            logits = tf.matmul(prev_layer, weights) + biases\n",
    "            variable_summaries(logits)\n",
    "    return logits, weights, biases"
   ]
  },
  {
   "cell_type": "code",
   "execution_count": 51,
   "metadata": {},
   "outputs": [],
   "source": [
    "keep_prob = .9\n",
    "start_learning_rate = .5\n",
    "decay_steps, decay_rate = 100, .9\n",
    "w = 0.001  # The l2 loss rates for weights\n",
    "batch_size = 128\n",
    "\n",
    "hidden_size1 = 1024\n",
    "hidden_size2 = hidden_size1//2\n",
    "hidden_size3 = hidden_size2//2\n",
    "hidden_size4 = hidden_size3//2\n",
    "hidden_size5 = hidden_size4//2\n",
    "\n",
    "graph = tf.Graph()\n",
    "with graph.as_default():\n",
    "  tf.summary.scalar('image_size', image_size)\n",
    "  tf.summary.scalar('batch_size', batch_size)\n",
    "  tf.summary.scalar('num_labels', num_labels)\n",
    "  tf.summary.scalar('w',w)\n",
    "  tf.summary.scalar('keep_prob',keep_prob)\n",
    "  tf.summary.scalar('decay_steps',decay_steps)\n",
    "  tf.summary.scalar('decay_rate',decay_rate)\n",
    "\n",
    "  # Input data. For the training data, we use a placeholder that will be fed\n",
    "  # at run time with a training minibatch.\n",
    "  with tf.name_scope('data'):\n",
    "    with tf.name_scope('train'):\n",
    "      tf_train_dataset = tf.placeholder(tf.float32,\n",
    "                                        shape=(batch_size, image_size * image_size))\n",
    "      tf_train_labels = tf.placeholder(tf.float32, shape=(batch_size, num_labels))\n",
    "    with tf.name_scope('valid'):\n",
    "      tf_valid_dataset = tf.constant(valid_dataset)\n",
    "    with tf.name_scope('test'):\n",
    "      tf_test_dataset = tf.constant(test_dataset)\n",
    "  \n",
    "  # Feed Forward Layer 1\n",
    "  logits1, weights1, biases1 = ff_layer(in_size=int(image_size**2.), out_size=hidden_size1, prev_layer=tf_train_dataset, name=\"ff1\")\n",
    "  with tf.name_scope('RELU1'):\n",
    "    act1 = tf.nn.relu(logits1)\n",
    "  with tf.name_scope('dropout1'):\n",
    "    drop1 = tf.nn.dropout(act1, keep_prob=keep_prob)\n",
    "        \n",
    "  # Feed Forward Layer 2\n",
    "  logits2, weights2, biases2 = ff_layer(in_size=hidden_size1, out_size=hidden_size2, prev_layer=drop1, name=\"ff2\")\n",
    "  with tf.name_scope('RELU2'):\n",
    "    act2 = tf.nn.relu(logits2)\n",
    "  with tf.name_scope('dropout2'):\n",
    "    drop2 = tf.nn.dropout(act2, keep_prob=keep_prob)\n",
    "  \n",
    "  # Feed Forward Layer 3\n",
    "  logits3, weights3, biases3 = ff_layer(in_size=hidden_size2, out_size=hidden_size3, prev_layer=drop2, name=\"ff3\")\n",
    "  with tf.name_scope('RELU3'):\n",
    "    act3 = tf.nn.relu(logits3)\n",
    "  with tf.name_scope('dropout3'):\n",
    "    drop3 = tf.nn.dropout(act3, keep_prob=keep_prob)\n",
    "  \n",
    "  # Feed Forward Layer 4\n",
    "  logits4, weights4, biases4 = ff_layer(in_size=hidden_size3, out_size=hidden_size4, prev_layer=drop3, name=\"ff4\")\n",
    "  with tf.name_scope('RELU4'):\n",
    "    act4 = tf.nn.relu(logits4)\n",
    "  with tf.name_scope('dropout4'):\n",
    "    drop4 = tf.nn.dropout(act4, keep_prob=keep_prob)\n",
    "  \n",
    "  # Feed Forward Layer 1\n",
    "  logits5, weights5, biases5 = ff_layer(in_size=hidden_size4, out_size=num_labels, prev_layer=drop4, name=\"ff5\")\n",
    "        \n",
    "  with tf.name_scope('error'):\n",
    "    diff = tf.nn.softmax_cross_entropy_with_logits(logits=logits5, labels=tf_train_labels)\n",
    "    w1 = tf.nn.l2_loss(weights1)\n",
    "    w2 = tf.nn.l2_loss(weights2)\n",
    "    w3 = tf.nn.l2_loss(weights3)\n",
    "    w4 = tf.nn.l2_loss(weights4)\n",
    "    w5 = tf.nn.l2_loss(weights5)\n",
    "    loss = tf.reduce_mean(diff + w*(w1+w2+w3+w4+w5))\n",
    "    tf.summary.scalar('cross_entropy', loss)\n",
    "    tf.summary.scalar('l2_w1', w1)\n",
    "    tf.summary.scalar('l2_w2', w2)\n",
    "    tf.summary.scalar('l2_w3', w3)\n",
    "    tf.summary.scalar('l2_w4', w4)\n",
    "    tf.summary.scalar('l2_w5', w5)\n",
    "    \n",
    "    \n",
    "  # Optimizer.\n",
    "  # We are going to find the minimum of this loss using gradient descent.\n",
    "  with tf.name_scope('opt'):\n",
    "    global_step = tf.Variable(0)  # count the number of steps taken.\n",
    "    learning_rate = tf.train.exponential_decay(start_learning_rate, global_step, decay_steps, decay_rate)\n",
    "    tf.summary.scalar('learning_rate', learning_rate)\n",
    "    optimizer = tf.train.GradientDescentOptimizer(learning_rate).minimize(loss, global_step=global_step)\n",
    "  \n",
    "  # Predictions for the training, validation, and test data.\n",
    "  # These are not part of training, but merely here so that we can report\n",
    "  # accuracy figures as we train.\n",
    "  with tf.name_scope('out'):\n",
    "    with tf.name_scope(\"train_prediction\"):\n",
    "        train_prediction = tf.nn.softmax(logits5)\n",
    "    \n",
    "    with tf.name_scope(\"valid_prediction\"):\n",
    "        v1 = tf.nn.relu(tf.matmul(tf_valid_dataset, weights1) + biases1)\n",
    "        v2 = tf.nn.relu(tf.matmul(v1, weights2) + biases2)\n",
    "        v3 = tf.nn.relu(tf.matmul(v2, weights3) + biases3)\n",
    "        v4 = tf.nn.relu(tf.matmul(v3, weights4) + biases4)\n",
    "        v5 = tf.nn.relu(tf.matmul(v4, weights5) + biases5)\n",
    "        valid_prediction = tf.nn.softmax(v5)\n",
    "    \n",
    "    with tf.name_scope(\"test_prediction\"):\n",
    "        t1 = tf.nn.relu(tf.matmul(tf_test_dataset, weights1) + biases1)\n",
    "        t2 = tf.nn.relu(tf.matmul(t1, weights2) + biases2)\n",
    "        t3 = tf.nn.relu(tf.matmul(t2, weights3) + biases3)\n",
    "        t4 = tf.nn.relu(tf.matmul(t3, weights4) + biases4)\n",
    "        t5 = tf.nn.relu(tf.matmul(t4, weights5) + biases5)\n",
    "        test_prediction = tf.nn.softmax(t5)"
   ]
  },
  {
   "cell_type": "code",
   "execution_count": 53,
   "metadata": {},
   "outputs": [
    {
     "name": "stdout",
     "output_type": "stream",
     "text": [
      "Initialized\n",
      "Step 0: Train: 12.5% Valid: 24.65% Lr: 0.5\n",
      "Step 140: Train: 86.71875% Valid: 82.7% Lr: 0.4314291477203369\n",
      "Step 280: Train: 88.28125% Valid: 84.4% Lr: 0.37226223945617676\n",
      "Step 420: Train: 87.5% Valid: 84.98% Lr: 0.321209579706192\n",
      "Step 560: Train: 81.25% Valid: 85.65% Lr: 0.27715837955474854\n",
      "Step 700: Train: 84.375% Valid: 85.77% Lr: 0.23914840817451477\n",
      "Step 840: Train: 89.0625% Valid: 85.85% Lr: 0.20635119080543518\n",
      "Step 980: Train: 89.0625% Valid: 86.33% Lr: 0.17805184423923492\n",
      "Step 1120: Train: 89.84375% Valid: 86.72% Lr: 0.15363352000713348\n",
      "Step 1260: Train: 91.40625% Valid: 86.95% Lr: 0.13256394863128662\n",
      "Step 1399: Test: 93.05%\n"
     ]
    }
   ],
   "source": [
    "run_batch_graph(graph, save_layers=[weights1, biases1, weights2, biases2, weights3, biases3, weights4, biases4, weights5, biases5], num_steps=1400, earliest_stop = -1, stopping_threshold = 8, batch_size=batch_size, summary_path=\"./summary/regularization/lrdecay/\", report_learning_rate=True)"
   ]
  },
  {
   "cell_type": "markdown",
   "metadata": {
    "collapsed": true
   },
   "source": []
  },
  {
   "cell_type": "code",
   "execution_count": null,
   "metadata": {
    "collapsed": true
   },
   "outputs": [],
   "source": []
  }
 ],
 "metadata": {
  "colab": {
   "default_view": {},
   "name": "3_regularization.ipynb",
   "provenance": [],
   "version": "0.3.2",
   "views": {}
  },
  "kernelspec": {
   "display_name": "Python 3",
   "language": "python",
   "name": "python3"
  },
  "language_info": {
   "codemirror_mode": {
    "name": "ipython",
    "version": 3
   },
   "file_extension": ".py",
   "mimetype": "text/x-python",
   "name": "python",
   "nbconvert_exporter": "python",
   "pygments_lexer": "ipython3",
   "version": "3.4.3"
  }
 },
 "nbformat": 4,
 "nbformat_minor": 1
}
